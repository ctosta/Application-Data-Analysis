{
 "cells": [
  {
   "cell_type": "markdown",
   "id": "86a45597-0db9-4e14-8131-78952868e90d",
   "metadata": {
    "jp-MarkdownHeadingCollapsed": true,
    "tags": []
   },
   "source": [
    "# 0.0. Imports"
   ]
  },
  {
   "cell_type": "code",
   "execution_count": 1,
   "id": "925950a4-e362-46f3-8d53-b407f7f097aa",
   "metadata": {},
   "outputs": [],
   "source": [
    "import pandas                       as pd\n",
    "import numpy                        as np\n",
    "import plotly.express               as px\n",
    "import plotly.graph_objects         as go\n",
    "import streamlit                    as st\n",
    "import inflection\n",
    "import folium\n",
    "\n",
    "from streamlit_folium               import folium_static\n",
    "from streamlit_option_menu          import option_menu\n",
    "from PIL                            import Image\n",
    "from folium.plugins                 import MarkerCluster\n",
    "from haversine                      import haversine"
   ]
  },
  {
   "cell_type": "markdown",
   "id": "4182c7be-faf7-4ab8-9cc6-aaddd4a9e257",
   "metadata": {
    "jp-MarkdownHeadingCollapsed": true,
    "tags": []
   },
   "source": [
    "## 0.2. Helper Functions"
   ]
  },
  {
   "cell_type": "code",
   "execution_count": 2,
   "id": "5ead6421-1a29-4a34-ab05-b2495e0c928c",
   "metadata": {},
   "outputs": [],
   "source": [
    "#Renomear as colunas do df\n",
    "def rename_columns(df):\n",
    "    title = lambda x: inflection.titleize(x)\n",
    "    snakecase = lambda x: inflection.underscore(x)\n",
    "    spaces = lambda x: x.replace(\" \",\"\")\n",
    "    cols_old = list(df.columns)\n",
    "    cols_old = list(map(title, cols_old))\n",
    "    cols_old = list(map(spaces, cols_old))\n",
    "    cols_new = list(map(snakecase, cols_old))\n",
    "    df.columns = cols_new\n",
    "    return df"
   ]
  },
  {
   "cell_type": "code",
   "execution_count": 3,
   "id": "2086349f-4e1e-4b56-9518-baadc355d34f",
   "metadata": {},
   "outputs": [],
   "source": [
    "# Excluir linhas NaN e duplicadas\n",
    "def clean_code (df):\n",
    "    df.dropna(inplace =True)\n",
    "    df.drop_duplicates(inplace = True)\n",
    "    \n",
    "    return df"
   ]
  },
  {
   "cell_type": "code",
   "execution_count": 4,
   "id": "806f3989-1bfd-4755-977e-871f859c299b",
   "metadata": {},
   "outputs": [],
   "source": [
    "# Alterar linhas\n",
    "def change_rows (df):\n",
    "    df['cuisines'] = df.loc[ :, \"cuisines\"].apply(lambda x: x.split(\",\")[0]) # conterá apenas o primeiro tipo de culinária presente em cada célula\n",
    "    df[\"restaurant_name\"]= df[\"restaurant_name\"].str.title() # converte a primeira letra de cada palavra em maiúscula e as letras subsequentes em minúscula\n",
    "    \n",
    "    return df"
   ]
  },
  {
   "cell_type": "code",
   "execution_count": 5,
   "id": "1bdff192-e387-4711-9885-513c741ae2ce",
   "metadata": {},
   "outputs": [],
   "source": [
    "# Substituindo código/países\n",
    "def country_name (df):\n",
    "    df['country_code'] = df['country_code'].map({\n",
    "    1: \"India\",\n",
    "    14: \"Australia\",\n",
    "    30: \"Brazil\",\n",
    "    37: \"Canada\",\n",
    "    94: \"Indonesia\",\n",
    "    148: \"New Zeland\",\n",
    "    162: \"Philippines\",\n",
    "    166: \"Qatar\",\n",
    "    184: \"Singapure\",\n",
    "    189: \"South Africa\",\n",
    "    191: \"Sri Lanka\",\n",
    "    208: \"Turkey\",\n",
    "    214: \"United Arab Emirates\",\n",
    "    215: \"England\",\n",
    "    216: \"United States of America\",\n",
    "})\n",
    "    return df   "
   ]
  },
  {
   "cell_type": "code",
   "execution_count": 6,
   "id": "7af24310-e3fb-4d5d-8e32-c54357fcbfaa",
   "metadata": {},
   "outputs": [],
   "source": [
    "# Renomeando linhas de uma coluna específica\n",
    "def create_price_type (df):\n",
    "    df['price_range'] = df['price_range'].map({\n",
    "    1: \"Cheap\",\n",
    "    2: \"Normal\",\n",
    "    3: \"Expensive\",\n",
    "    4: \"Gourmet\",\n",
    "})\n",
    "    return df  "
   ]
  },
  {
   "cell_type": "code",
   "execution_count": 7,
   "id": "92baa3ee-1f43-4f3b-85c2-6da7e0bc6f9c",
   "metadata": {},
   "outputs": [],
   "source": [
    "# Definindo cores\n",
    "def color_name (df):\n",
    "    df['rating_color'] = df['rating_color'].map({\n",
    "    '3F7E00': 'darkgreen',\n",
    "    '5BA829': 'green',\n",
    "    '9ACD32': 'lightgreen',\n",
    "    'CDD614': 'orange',\n",
    "    'FFBA00': 'red',\n",
    "    'CBCBC8': 'darkred',\n",
    "    'FF7800': 'darkred',\n",
    "})\n",
    "    return df "
   ]
  },
  {
   "cell_type": "code",
   "execution_count": 8,
   "id": "22f4d2d3-bbf9-4c31-9f07-69e9814c9ebc",
   "metadata": {},
   "outputs": [],
   "source": [
    "#Criando uma coluna com o valor em dólar\n",
    "def price_in_dollar (df):\n",
    "    df['price_in_dollar'] = np.round(df[['currency', 'average_cost_for_two']].apply(lambda x: (x['average_cost_for_two'] / 12.85) if x['currency'] == 'Botswana Pula(P)' else\n",
    "                                                                                     (x['average_cost_for_two'] / 5.31) if x['currency'] == 'Brazilian Real(R$)' else\n",
    "                                                                                     (x['average_cost_for_two'] / 1) if x['currency'] == 'Dollar($)' else\n",
    "                                                                                     (x['average_cost_for_two'] / 3.67) if x['currency'] == 'Emirati Diram(AED)' else\n",
    "                                                                                     (x['average_cost_for_two'] / 82.68) if x['currency'] == 'Indian Rupees(Rs.)' else\n",
    "                                                                                     (x['average_cost_for_two'] / 15608.45) if x['currency'] == 'Indonesian Rupiah(IDR)' else\n",
    "                                                                                     (x['average_cost_for_two'] / 1.57) if x['currency'] == 'NewZealand($)' else\n",
    "                                                                                     (x['average_cost_for_two'] / 0.819257) if x['currency'] == 'Pounds(£)' else\n",
    "                                                                                     (x['average_cost_for_two'] / 3.64) if x['currency'] == 'Qatari Rial(QR)' else\n",
    "                                                                                     (x['average_cost_for_two'] / 17.59) if x['currency'] == 'Rand(R)' else\n",
    "                                                                                     (x['average_cost_for_two'] / 366.86) if x['currency'] == 'Sri Lankan Rupee(LKR)' else\n",
    "                                                                                     (x['average_cost_for_two'] / 18.65) if x['currency'] == 'Turkish Lira(TL)' else 0, axis = 1),2)\n",
    "    return df"
   ]
  },
  {
   "cell_type": "markdown",
   "id": "56704575-2359-4900-8b7d-ce3682833b05",
   "metadata": {
    "jp-MarkdownHeadingCollapsed": true,
    "tags": []
   },
   "source": [
    "## 0.3. Loading Data"
   ]
  },
  {
   "cell_type": "code",
   "execution_count": 10,
   "id": "8f8d9af8",
   "metadata": {},
   "outputs": [
    {
     "data": {
      "text/html": [
       "<div>\n",
       "<style scoped>\n",
       "    .dataframe tbody tr th:only-of-type {\n",
       "        vertical-align: middle;\n",
       "    }\n",
       "\n",
       "    .dataframe tbody tr th {\n",
       "        vertical-align: top;\n",
       "    }\n",
       "\n",
       "    .dataframe thead th {\n",
       "        text-align: right;\n",
       "    }\n",
       "</style>\n",
       "<table border=\"1\" class=\"dataframe\">\n",
       "  <thead>\n",
       "    <tr style=\"text-align: right;\">\n",
       "      <th></th>\n",
       "      <th>0</th>\n",
       "      <th>1</th>\n",
       "    </tr>\n",
       "  </thead>\n",
       "  <tbody>\n",
       "    <tr>\n",
       "      <th>Restaurant ID</th>\n",
       "      <td>6310675</td>\n",
       "      <td>6310675</td>\n",
       "    </tr>\n",
       "    <tr>\n",
       "      <th>Restaurant Name</th>\n",
       "      <td>Mama Lou's Italian Kitchen</td>\n",
       "      <td>Mama Lou's Italian Kitchen</td>\n",
       "    </tr>\n",
       "    <tr>\n",
       "      <th>Country Code</th>\n",
       "      <td>162</td>\n",
       "      <td>162</td>\n",
       "    </tr>\n",
       "    <tr>\n",
       "      <th>City</th>\n",
       "      <td>Las Piñas City</td>\n",
       "      <td>Las Piñas City</td>\n",
       "    </tr>\n",
       "    <tr>\n",
       "      <th>Address</th>\n",
       "      <td>Block 1, Lot 36, Tropical Avenue Corner Tropic...</td>\n",
       "      <td>Block 1, Lot 36, Tropical Avenue Corner Tropic...</td>\n",
       "    </tr>\n",
       "    <tr>\n",
       "      <th>Locality</th>\n",
       "      <td>BF International</td>\n",
       "      <td>BF International</td>\n",
       "    </tr>\n",
       "    <tr>\n",
       "      <th>Locality Verbose</th>\n",
       "      <td>BF International, Las Piñas City</td>\n",
       "      <td>BF International, Las Piñas City</td>\n",
       "    </tr>\n",
       "    <tr>\n",
       "      <th>Longitude</th>\n",
       "      <td>121.009787</td>\n",
       "      <td>121.009787</td>\n",
       "    </tr>\n",
       "    <tr>\n",
       "      <th>Latitude</th>\n",
       "      <td>14.447615</td>\n",
       "      <td>14.447615</td>\n",
       "    </tr>\n",
       "    <tr>\n",
       "      <th>Cuisines</th>\n",
       "      <td>Italian</td>\n",
       "      <td>Italian</td>\n",
       "    </tr>\n",
       "    <tr>\n",
       "      <th>Average Cost for two</th>\n",
       "      <td>1100</td>\n",
       "      <td>1100</td>\n",
       "    </tr>\n",
       "    <tr>\n",
       "      <th>Currency</th>\n",
       "      <td>Botswana Pula(P)</td>\n",
       "      <td>Botswana Pula(P)</td>\n",
       "    </tr>\n",
       "    <tr>\n",
       "      <th>Has Table booking</th>\n",
       "      <td>1</td>\n",
       "      <td>1</td>\n",
       "    </tr>\n",
       "    <tr>\n",
       "      <th>Has Online delivery</th>\n",
       "      <td>0</td>\n",
       "      <td>0</td>\n",
       "    </tr>\n",
       "    <tr>\n",
       "      <th>Is delivering now</th>\n",
       "      <td>0</td>\n",
       "      <td>0</td>\n",
       "    </tr>\n",
       "    <tr>\n",
       "      <th>Switch to order menu</th>\n",
       "      <td>0</td>\n",
       "      <td>0</td>\n",
       "    </tr>\n",
       "    <tr>\n",
       "      <th>Price range</th>\n",
       "      <td>3</td>\n",
       "      <td>3</td>\n",
       "    </tr>\n",
       "    <tr>\n",
       "      <th>Aggregate rating</th>\n",
       "      <td>4.6</td>\n",
       "      <td>4.6</td>\n",
       "    </tr>\n",
       "    <tr>\n",
       "      <th>Rating color</th>\n",
       "      <td>3F7E00</td>\n",
       "      <td>3F7E00</td>\n",
       "    </tr>\n",
       "    <tr>\n",
       "      <th>Rating text</th>\n",
       "      <td>Excellent</td>\n",
       "      <td>Excellent</td>\n",
       "    </tr>\n",
       "    <tr>\n",
       "      <th>Votes</th>\n",
       "      <td>619</td>\n",
       "      <td>619</td>\n",
       "    </tr>\n",
       "  </tbody>\n",
       "</table>\n",
       "</div>"
      ],
      "text/plain": [
       "                                                                      0  \\\n",
       "Restaurant ID                                                   6310675   \n",
       "Restaurant Name                              Mama Lou's Italian Kitchen   \n",
       "Country Code                                                        162   \n",
       "City                                                     Las Piñas City   \n",
       "Address               Block 1, Lot 36, Tropical Avenue Corner Tropic...   \n",
       "Locality                                               BF International   \n",
       "Locality Verbose                       BF International, Las Piñas City   \n",
       "Longitude                                                    121.009787   \n",
       "Latitude                                                      14.447615   \n",
       "Cuisines                                                        Italian   \n",
       "Average Cost for two                                               1100   \n",
       "Currency                                               Botswana Pula(P)   \n",
       "Has Table booking                                                     1   \n",
       "Has Online delivery                                                   0   \n",
       "Is delivering now                                                     0   \n",
       "Switch to order menu                                                  0   \n",
       "Price range                                                           3   \n",
       "Aggregate rating                                                    4.6   \n",
       "Rating color                                                     3F7E00   \n",
       "Rating text                                                   Excellent   \n",
       "Votes                                                               619   \n",
       "\n",
       "                                                                      1  \n",
       "Restaurant ID                                                   6310675  \n",
       "Restaurant Name                              Mama Lou's Italian Kitchen  \n",
       "Country Code                                                        162  \n",
       "City                                                     Las Piñas City  \n",
       "Address               Block 1, Lot 36, Tropical Avenue Corner Tropic...  \n",
       "Locality                                               BF International  \n",
       "Locality Verbose                       BF International, Las Piñas City  \n",
       "Longitude                                                    121.009787  \n",
       "Latitude                                                      14.447615  \n",
       "Cuisines                                                        Italian  \n",
       "Average Cost for two                                               1100  \n",
       "Currency                                               Botswana Pula(P)  \n",
       "Has Table booking                                                     1  \n",
       "Has Online delivery                                                   0  \n",
       "Is delivering now                                                     0  \n",
       "Switch to order menu                                                  0  \n",
       "Price range                                                           3  \n",
       "Aggregate rating                                                    4.6  \n",
       "Rating color                                                     3F7E00  \n",
       "Rating text                                                   Excellent  \n",
       "Votes                                                               619  "
      ]
     },
     "execution_count": 10,
     "metadata": {},
     "output_type": "execute_result"
    }
   ],
   "source": [
    "df = pd.read_csv('../dataset/zomato.csv')\n",
    "df.head(2).T"
   ]
  },
  {
   "cell_type": "markdown",
   "id": "f06cc46e",
   "metadata": {},
   "source": [
    "# 1.0. Data Description"
   ]
  },
  {
   "cell_type": "code",
   "execution_count": 11,
   "id": "c87af039-73f7-4a40-a84d-da8bdc982f14",
   "metadata": {},
   "outputs": [],
   "source": [
    "df1 = df.copy()"
   ]
  },
  {
   "cell_type": "markdown",
   "id": "4b5fe33c",
   "metadata": {},
   "source": [
    "## 1.1. Rename Columns"
   ]
  },
  {
   "cell_type": "code",
   "execution_count": 12,
   "id": "bdb0f6fc-c423-47df-af2d-1eeb79115e27",
   "metadata": {},
   "outputs": [
    {
     "data": {
      "text/plain": [
       "Index(['restaurant_id', 'restaurant_name', 'country_code', 'city', 'address',\n",
       "       'locality', 'locality_verbose', 'longitude', 'latitude', 'cuisines',\n",
       "       'average_cost_for_two', 'currency', 'has_table_booking',\n",
       "       'has_online_delivery', 'is_delivering_now', 'switch_to_order_menu',\n",
       "       'price_range', 'aggregate_rating', 'rating_color', 'rating_text',\n",
       "       'votes'],\n",
       "      dtype='object')"
      ]
     },
     "execution_count": 12,
     "metadata": {},
     "output_type": "execute_result"
    }
   ],
   "source": [
    "df1 = rename_columns(df1)\n",
    "df1.columns"
   ]
  },
  {
   "cell_type": "markdown",
   "id": "a74674f6",
   "metadata": {},
   "source": [
    "## 1.2. Data Dimensions"
   ]
  },
  {
   "cell_type": "code",
   "execution_count": 13,
   "id": "b1cc7a7a-1e6c-480d-a1c9-cbe53d2f64f9",
   "metadata": {},
   "outputs": [
    {
     "name": "stdout",
     "output_type": "stream",
     "text": [
      "Number os Rows: 7527\n",
      "Number os Columns: 21\n"
     ]
    }
   ],
   "source": [
    "print ('Number os Rows: {}'.format (df1.shape[0]))\n",
    "print ('Number os Columns: {}'.format (df1.shape[1]))"
   ]
  },
  {
   "cell_type": "markdown",
   "id": "af1896de",
   "metadata": {},
   "source": [
    "## 1.3. Data Info"
   ]
  },
  {
   "cell_type": "code",
   "execution_count": 14,
   "id": "66e28483-1844-485a-becb-2000f71a364f",
   "metadata": {},
   "outputs": [
    {
     "name": "stdout",
     "output_type": "stream",
     "text": [
      "<class 'pandas.core.frame.DataFrame'>\n",
      "RangeIndex: 7527 entries, 0 to 7526\n",
      "Data columns (total 21 columns):\n",
      " #   Column                Non-Null Count  Dtype  \n",
      "---  ------                --------------  -----  \n",
      " 0   restaurant_id         7527 non-null   int64  \n",
      " 1   restaurant_name       7527 non-null   object \n",
      " 2   country_code          7527 non-null   int64  \n",
      " 3   city                  7527 non-null   object \n",
      " 4   address               7527 non-null   object \n",
      " 5   locality              7527 non-null   object \n",
      " 6   locality_verbose      7527 non-null   object \n",
      " 7   longitude             7527 non-null   float64\n",
      " 8   latitude              7527 non-null   float64\n",
      " 9   cuisines              7512 non-null   object \n",
      " 10  average_cost_for_two  7527 non-null   int64  \n",
      " 11  currency              7527 non-null   object \n",
      " 12  has_table_booking     7527 non-null   int64  \n",
      " 13  has_online_delivery   7527 non-null   int64  \n",
      " 14  is_delivering_now     7527 non-null   int64  \n",
      " 15  switch_to_order_menu  7527 non-null   int64  \n",
      " 16  price_range           7527 non-null   int64  \n",
      " 17  aggregate_rating      7527 non-null   float64\n",
      " 18  rating_color          7527 non-null   object \n",
      " 19  rating_text           7527 non-null   object \n",
      " 20  votes                 7527 non-null   int64  \n",
      "dtypes: float64(3), int64(9), object(9)\n",
      "memory usage: 1.2+ MB\n"
     ]
    }
   ],
   "source": [
    "df1.info()"
   ]
  },
  {
   "cell_type": "markdown",
   "id": "074869b3",
   "metadata": {},
   "source": [
    "## 1.4. Check NA"
   ]
  },
  {
   "cell_type": "code",
   "execution_count": 15,
   "id": "f14c76ac",
   "metadata": {},
   "outputs": [
    {
     "data": {
      "text/plain": [
       "restaurant_id            0\n",
       "restaurant_name          0\n",
       "country_code             0\n",
       "city                     0\n",
       "address                  0\n",
       "locality                 0\n",
       "locality_verbose         0\n",
       "longitude                0\n",
       "latitude                 0\n",
       "cuisines                15\n",
       "average_cost_for_two     0\n",
       "currency                 0\n",
       "has_table_booking        0\n",
       "has_online_delivery      0\n",
       "is_delivering_now        0\n",
       "switch_to_order_menu     0\n",
       "price_range              0\n",
       "aggregate_rating         0\n",
       "rating_color             0\n",
       "rating_text              0\n",
       "votes                    0\n",
       "dtype: int64"
      ]
     },
     "execution_count": 15,
     "metadata": {},
     "output_type": "execute_result"
    }
   ],
   "source": [
    "df1.isna().sum()"
   ]
  },
  {
   "cell_type": "markdown",
   "id": "463cfd10",
   "metadata": {},
   "source": [
    "## 1.5. Fillout NA"
   ]
  },
  {
   "cell_type": "code",
   "execution_count": 16,
   "id": "6a98cd56",
   "metadata": {},
   "outputs": [],
   "source": [
    "df1 = clean_code (df1)"
   ]
  },
  {
   "cell_type": "markdown",
   "id": "5f4e2a20",
   "metadata": {},
   "source": [
    "# 2.0. Feature Engineering"
   ]
  },
  {
   "cell_type": "code",
   "execution_count": 17,
   "id": "a9f7f685",
   "metadata": {},
   "outputs": [],
   "source": [
    "df2 = df1.copy()"
   ]
  },
  {
   "cell_type": "code",
   "execution_count": 18,
   "id": "e4d08b86",
   "metadata": {},
   "outputs": [],
   "source": [
    "# Alterar linhas das variáveis cuisines e restaurante_name\n",
    "df2 = change_rows (df2)\n",
    "\n",
    "# Substituindo código dos países pelo nome\n",
    "df2 = country_name(df2)\n",
    "\n",
    "# Atribuindo rótulos nas linhas da variável price_range\n",
    "df2 = create_price_type(df2) \n",
    "\n",
    "# Definindo cores na variável rating_color (coordenadas no mapa)\n",
    "df2 = color_name(df2)                                                                  \n",
    "\n",
    "# Criando uma variável com o valor da variável average_cost_for_two em dólar\n",
    "df2 = price_in_dollar(df2)"
   ]
  },
  {
   "cell_type": "code",
   "execution_count": 19,
   "id": "ee5ba06d",
   "metadata": {},
   "outputs": [
    {
     "data": {
      "text/html": [
       "<div>\n",
       "<style scoped>\n",
       "    .dataframe tbody tr th:only-of-type {\n",
       "        vertical-align: middle;\n",
       "    }\n",
       "\n",
       "    .dataframe tbody tr th {\n",
       "        vertical-align: top;\n",
       "    }\n",
       "\n",
       "    .dataframe thead th {\n",
       "        text-align: right;\n",
       "    }\n",
       "</style>\n",
       "<table border=\"1\" class=\"dataframe\">\n",
       "  <thead>\n",
       "    <tr style=\"text-align: right;\">\n",
       "      <th></th>\n",
       "      <th>0</th>\n",
       "    </tr>\n",
       "  </thead>\n",
       "  <tbody>\n",
       "    <tr>\n",
       "      <th>restaurant_id</th>\n",
       "      <td>6310675</td>\n",
       "    </tr>\n",
       "    <tr>\n",
       "      <th>restaurant_name</th>\n",
       "      <td>Mama Lou'S Italian Kitchen</td>\n",
       "    </tr>\n",
       "    <tr>\n",
       "      <th>country_code</th>\n",
       "      <td>Philippines</td>\n",
       "    </tr>\n",
       "    <tr>\n",
       "      <th>city</th>\n",
       "      <td>Las Piñas City</td>\n",
       "    </tr>\n",
       "    <tr>\n",
       "      <th>address</th>\n",
       "      <td>Block 1, Lot 36, Tropical Avenue Corner Tropic...</td>\n",
       "    </tr>\n",
       "    <tr>\n",
       "      <th>locality</th>\n",
       "      <td>BF International</td>\n",
       "    </tr>\n",
       "    <tr>\n",
       "      <th>locality_verbose</th>\n",
       "      <td>BF International, Las Piñas City</td>\n",
       "    </tr>\n",
       "    <tr>\n",
       "      <th>longitude</th>\n",
       "      <td>121.009787</td>\n",
       "    </tr>\n",
       "    <tr>\n",
       "      <th>latitude</th>\n",
       "      <td>14.447615</td>\n",
       "    </tr>\n",
       "    <tr>\n",
       "      <th>cuisines</th>\n",
       "      <td>Italian</td>\n",
       "    </tr>\n",
       "    <tr>\n",
       "      <th>average_cost_for_two</th>\n",
       "      <td>1100</td>\n",
       "    </tr>\n",
       "    <tr>\n",
       "      <th>currency</th>\n",
       "      <td>Botswana Pula(P)</td>\n",
       "    </tr>\n",
       "    <tr>\n",
       "      <th>has_table_booking</th>\n",
       "      <td>1</td>\n",
       "    </tr>\n",
       "    <tr>\n",
       "      <th>has_online_delivery</th>\n",
       "      <td>0</td>\n",
       "    </tr>\n",
       "    <tr>\n",
       "      <th>is_delivering_now</th>\n",
       "      <td>0</td>\n",
       "    </tr>\n",
       "    <tr>\n",
       "      <th>switch_to_order_menu</th>\n",
       "      <td>0</td>\n",
       "    </tr>\n",
       "    <tr>\n",
       "      <th>price_range</th>\n",
       "      <td>Expensive</td>\n",
       "    </tr>\n",
       "    <tr>\n",
       "      <th>aggregate_rating</th>\n",
       "      <td>4.6</td>\n",
       "    </tr>\n",
       "    <tr>\n",
       "      <th>rating_color</th>\n",
       "      <td>darkgreen</td>\n",
       "    </tr>\n",
       "    <tr>\n",
       "      <th>rating_text</th>\n",
       "      <td>Excellent</td>\n",
       "    </tr>\n",
       "    <tr>\n",
       "      <th>votes</th>\n",
       "      <td>619</td>\n",
       "    </tr>\n",
       "    <tr>\n",
       "      <th>price_in_dollar</th>\n",
       "      <td>85.6</td>\n",
       "    </tr>\n",
       "  </tbody>\n",
       "</table>\n",
       "</div>"
      ],
      "text/plain": [
       "                                                                      0\n",
       "restaurant_id                                                   6310675\n",
       "restaurant_name                              Mama Lou'S Italian Kitchen\n",
       "country_code                                                Philippines\n",
       "city                                                     Las Piñas City\n",
       "address               Block 1, Lot 36, Tropical Avenue Corner Tropic...\n",
       "locality                                               BF International\n",
       "locality_verbose                       BF International, Las Piñas City\n",
       "longitude                                                    121.009787\n",
       "latitude                                                      14.447615\n",
       "cuisines                                                        Italian\n",
       "average_cost_for_two                                               1100\n",
       "currency                                               Botswana Pula(P)\n",
       "has_table_booking                                                     1\n",
       "has_online_delivery                                                   0\n",
       "is_delivering_now                                                     0\n",
       "switch_to_order_menu                                                  0\n",
       "price_range                                                   Expensive\n",
       "aggregate_rating                                                    4.6\n",
       "rating_color                                                  darkgreen\n",
       "rating_text                                                   Excellent\n",
       "votes                                                               619\n",
       "price_in_dollar                                                    85.6"
      ]
     },
     "execution_count": 19,
     "metadata": {},
     "output_type": "execute_result"
    }
   ],
   "source": [
    "df2.head(1).T"
   ]
  },
  {
   "cell_type": "markdown",
   "id": "7a39b1e1",
   "metadata": {},
   "source": [
    "# 3.0. Exploratory Data Analysis"
   ]
  },
  {
   "cell_type": "markdown",
   "id": "6efe1422-3b2f-40d1-b955-4da2cfb2812a",
   "metadata": {
    "jp-MarkdownHeadingCollapsed": true,
    "tags": []
   },
   "source": [
    "## 3.1. Análise Geral"
   ]
  },
  {
   "cell_type": "markdown",
   "id": "1c598dfb-ec86-4e71-84ee-b45a6d103d39",
   "metadata": {
    "tags": []
   },
   "source": [
    "### 1. Quantos restaurantes únicos estão registrados?"
   ]
  },
  {
   "cell_type": "code",
   "execution_count": 15,
   "id": "62fe7719-c662-4f64-b550-0e31ce6e0024",
   "metadata": {},
   "outputs": [
    {
     "data": {
      "text/plain": [
       "5891"
      ]
     },
     "execution_count": 15,
     "metadata": {},
     "output_type": "execute_result"
    }
   ],
   "source": [
    "df['restaurant_name'].nunique()"
   ]
  },
  {
   "cell_type": "markdown",
   "id": "2851fd1d-f383-48e8-9752-241948405e7a",
   "metadata": {},
   "source": [
    "### 2. Quantos países únicos estão registrados?"
   ]
  },
  {
   "cell_type": "code",
   "execution_count": 16,
   "id": "901adcec-6b15-4cb0-9865-b894d3844ec3",
   "metadata": {},
   "outputs": [
    {
     "data": {
      "text/plain": [
       "15"
      ]
     },
     "execution_count": 16,
     "metadata": {},
     "output_type": "execute_result"
    }
   ],
   "source": [
    "df['country_code'].nunique()"
   ]
  },
  {
   "cell_type": "markdown",
   "id": "eb54e624-a032-4375-acda-da62d2f1f1ca",
   "metadata": {},
   "source": [
    "### 3. Quantas cidades únicas estão registradas?"
   ]
  },
  {
   "cell_type": "code",
   "execution_count": 17,
   "id": "ff4519b9-81b7-4f6e-9b64-486856befdc2",
   "metadata": {},
   "outputs": [
    {
     "data": {
      "text/plain": [
       "125"
      ]
     },
     "execution_count": 17,
     "metadata": {},
     "output_type": "execute_result"
    }
   ],
   "source": [
    "df['city'].nunique()"
   ]
  },
  {
   "cell_type": "markdown",
   "id": "deaf5aa7-6a62-4576-ba8b-3f1e8aab70a5",
   "metadata": {},
   "source": [
    "### 4. Qual é o total de avaliações feitas?"
   ]
  },
  {
   "cell_type": "code",
   "execution_count": 18,
   "id": "451dbcf6-622f-462b-ae21-afbd98a13c1e",
   "metadata": {},
   "outputs": [
    {
     "data": {
      "text/plain": [
       "6929"
      ]
     },
     "execution_count": 18,
     "metadata": {},
     "output_type": "execute_result"
    }
   ],
   "source": [
    "df['aggregate_rating'].count()"
   ]
  },
  {
   "cell_type": "markdown",
   "id": "896f36a8-b481-42d2-941f-9d63fd5958f1",
   "metadata": {},
   "source": [
    "### 5. Qual é o total de tipos de culinária registrados?"
   ]
  },
  {
   "cell_type": "code",
   "execution_count": 19,
   "id": "87eba3d7-7f40-4fbc-be42-c42acabe729d",
   "metadata": {},
   "outputs": [
    {
     "data": {
      "text/plain": [
       "165"
      ]
     },
     "execution_count": 19,
     "metadata": {},
     "output_type": "execute_result"
    }
   ],
   "source": [
    "df['cuisines'].nunique()"
   ]
  },
  {
   "cell_type": "markdown",
   "id": "d634b48b-7c11-4a8f-a8a6-07213e2c90a3",
   "metadata": {
    "jp-MarkdownHeadingCollapsed": true,
    "tags": []
   },
   "source": [
    "## 3.2. Análise País"
   ]
  },
  {
   "cell_type": "markdown",
   "id": "8ec3fedd-89d7-4fba-b208-3361c97659c8",
   "metadata": {
    "jp-MarkdownHeadingCollapsed": true,
    "tags": []
   },
   "source": [
    "### 1. Qual o nome do país que possui mais cidades registradas?"
   ]
  },
  {
   "cell_type": "code",
   "execution_count": 20,
   "id": "9c07bc77-5e51-45d0-91fd-40f1030a5816",
   "metadata": {},
   "outputs": [
    {
     "data": {
      "text/html": [
       "<div>\n",
       "<style scoped>\n",
       "    .dataframe tbody tr th:only-of-type {\n",
       "        vertical-align: middle;\n",
       "    }\n",
       "\n",
       "    .dataframe tbody tr th {\n",
       "        vertical-align: top;\n",
       "    }\n",
       "\n",
       "    .dataframe thead th {\n",
       "        text-align: right;\n",
       "    }\n",
       "</style>\n",
       "<table border=\"1\" class=\"dataframe\">\n",
       "  <thead>\n",
       "    <tr style=\"text-align: right;\">\n",
       "      <th></th>\n",
       "      <th>country_code</th>\n",
       "      <th>city</th>\n",
       "    </tr>\n",
       "  </thead>\n",
       "  <tbody>\n",
       "    <tr>\n",
       "      <th>0</th>\n",
       "      <td>India</td>\n",
       "      <td>49</td>\n",
       "    </tr>\n",
       "  </tbody>\n",
       "</table>\n",
       "</div>"
      ],
      "text/plain": [
       "  country_code  city\n",
       "0        India    49"
      ]
     },
     "execution_count": 20,
     "metadata": {},
     "output_type": "execute_result"
    }
   ],
   "source": [
    "df.loc[:, ['country_code', 'city']].groupby('country_code').nunique().sort_values(by = 'city', ascending = False).head(1).reset_index()"
   ]
  },
  {
   "cell_type": "markdown",
   "id": "9c11851b-ef48-4534-9d9a-bf3ff2a871f4",
   "metadata": {
    "jp-MarkdownHeadingCollapsed": true,
    "tags": []
   },
   "source": [
    "### 2. Qual o nome do país que possui mais restaurantes registrados?"
   ]
  },
  {
   "cell_type": "code",
   "execution_count": 21,
   "id": "e1f96c42-a48a-415b-b88c-d321e081b7bb",
   "metadata": {},
   "outputs": [
    {
     "data": {
      "text/html": [
       "<div>\n",
       "<style scoped>\n",
       "    .dataframe tbody tr th:only-of-type {\n",
       "        vertical-align: middle;\n",
       "    }\n",
       "\n",
       "    .dataframe tbody tr th {\n",
       "        vertical-align: top;\n",
       "    }\n",
       "\n",
       "    .dataframe thead th {\n",
       "        text-align: right;\n",
       "    }\n",
       "</style>\n",
       "<table border=\"1\" class=\"dataframe\">\n",
       "  <thead>\n",
       "    <tr style=\"text-align: right;\">\n",
       "      <th></th>\n",
       "      <th>country_code</th>\n",
       "      <th>restaurant_name</th>\n",
       "    </tr>\n",
       "  </thead>\n",
       "  <tbody>\n",
       "    <tr>\n",
       "      <th>0</th>\n",
       "      <td>India</td>\n",
       "      <td>2474</td>\n",
       "    </tr>\n",
       "  </tbody>\n",
       "</table>\n",
       "</div>"
      ],
      "text/plain": [
       "  country_code  restaurant_name\n",
       "0        India             2474"
      ]
     },
     "execution_count": 21,
     "metadata": {},
     "output_type": "execute_result"
    }
   ],
   "source": [
    "df.loc[:, ['country_code', 'restaurant_name']].groupby('country_code').nunique().sort_values(by = 'restaurant_name', ascending = False).head(1).reset_index()"
   ]
  },
  {
   "cell_type": "markdown",
   "id": "23359be4-bd9c-4122-b34d-9918f6a36704",
   "metadata": {
    "jp-MarkdownHeadingCollapsed": true,
    "tags": []
   },
   "source": [
    "### 3. Qual o nome do país que possui mais restaurantes com o nível de preço igual a 4 registrados?"
   ]
  },
  {
   "cell_type": "code",
   "execution_count": 22,
   "id": "0f189cae-2910-4f5f-b5de-08ae43356365",
   "metadata": {},
   "outputs": [
    {
     "data": {
      "text/html": [
       "<div>\n",
       "<style scoped>\n",
       "    .dataframe tbody tr th:only-of-type {\n",
       "        vertical-align: middle;\n",
       "    }\n",
       "\n",
       "    .dataframe tbody tr th {\n",
       "        vertical-align: top;\n",
       "    }\n",
       "\n",
       "    .dataframe thead th {\n",
       "        text-align: right;\n",
       "    }\n",
       "</style>\n",
       "<table border=\"1\" class=\"dataframe\">\n",
       "  <thead>\n",
       "    <tr style=\"text-align: right;\">\n",
       "      <th></th>\n",
       "      <th>country_code</th>\n",
       "      <th>0</th>\n",
       "    </tr>\n",
       "  </thead>\n",
       "  <tbody>\n",
       "    <tr>\n",
       "      <th>0</th>\n",
       "      <td>United States of America</td>\n",
       "      <td>415</td>\n",
       "    </tr>\n",
       "  </tbody>\n",
       "</table>\n",
       "</div>"
      ],
      "text/plain": [
       "               country_code    0\n",
       "0  United States of America  415"
      ]
     },
     "execution_count": 22,
     "metadata": {},
     "output_type": "execute_result"
    }
   ],
   "source": [
    "df.loc[df['price_range'] == \"Gourmet\", ['country_code', 'price_range']].groupby('country_code').size().sort_values(ascending = False).head(1).reset_index()"
   ]
  },
  {
   "cell_type": "markdown",
   "id": "52d88bbd-b660-4b9a-a985-8d6f5996e5ee",
   "metadata": {
    "jp-MarkdownHeadingCollapsed": true,
    "tags": []
   },
   "source": [
    "### 4. Qual o nome do país que possui a maior quantidade de tipos de culinária distintos?"
   ]
  },
  {
   "cell_type": "code",
   "execution_count": 23,
   "id": "d78843bc-fcae-4992-9abe-1db3a7631a24",
   "metadata": {},
   "outputs": [
    {
     "data": {
      "text/html": [
       "<div>\n",
       "<style scoped>\n",
       "    .dataframe tbody tr th:only-of-type {\n",
       "        vertical-align: middle;\n",
       "    }\n",
       "\n",
       "    .dataframe tbody tr th {\n",
       "        vertical-align: top;\n",
       "    }\n",
       "\n",
       "    .dataframe thead th {\n",
       "        text-align: right;\n",
       "    }\n",
       "</style>\n",
       "<table border=\"1\" class=\"dataframe\">\n",
       "  <thead>\n",
       "    <tr style=\"text-align: right;\">\n",
       "      <th></th>\n",
       "      <th>country_code</th>\n",
       "      <th>cuisines</th>\n",
       "    </tr>\n",
       "  </thead>\n",
       "  <tbody>\n",
       "    <tr>\n",
       "      <th>0</th>\n",
       "      <td>India</td>\n",
       "      <td>77</td>\n",
       "    </tr>\n",
       "  </tbody>\n",
       "</table>\n",
       "</div>"
      ],
      "text/plain": [
       "  country_code  cuisines\n",
       "0        India        77"
      ]
     },
     "execution_count": 23,
     "metadata": {},
     "output_type": "execute_result"
    }
   ],
   "source": [
    "df.loc[:, ['country_code', 'cuisines']].groupby('country_code').nunique().sort_values(by = 'cuisines', ascending = False).head(1).reset_index()"
   ]
  },
  {
   "cell_type": "markdown",
   "id": "5dd68b08-a0ad-4299-ad03-3ca4dca333c9",
   "metadata": {
    "jp-MarkdownHeadingCollapsed": true,
    "tags": []
   },
   "source": [
    "### 5. Qual o nome do país que possui a maior quantidade de avaliações feitas?"
   ]
  },
  {
   "cell_type": "code",
   "execution_count": 24,
   "id": "7349013a-6325-4d04-8660-964fe22974ab",
   "metadata": {},
   "outputs": [
    {
     "data": {
      "text/html": [
       "<div>\n",
       "<style scoped>\n",
       "    .dataframe tbody tr th:only-of-type {\n",
       "        vertical-align: middle;\n",
       "    }\n",
       "\n",
       "    .dataframe tbody tr th {\n",
       "        vertical-align: top;\n",
       "    }\n",
       "\n",
       "    .dataframe thead th {\n",
       "        text-align: right;\n",
       "    }\n",
       "</style>\n",
       "<table border=\"1\" class=\"dataframe\">\n",
       "  <thead>\n",
       "    <tr style=\"text-align: right;\">\n",
       "      <th></th>\n",
       "      <th>country_code</th>\n",
       "      <th>0</th>\n",
       "    </tr>\n",
       "  </thead>\n",
       "  <tbody>\n",
       "    <tr>\n",
       "      <th>0</th>\n",
       "      <td>India</td>\n",
       "      <td>3111</td>\n",
       "    </tr>\n",
       "  </tbody>\n",
       "</table>\n",
       "</div>"
      ],
      "text/plain": [
       "  country_code     0\n",
       "0        India  3111"
      ]
     },
     "execution_count": 24,
     "metadata": {},
     "output_type": "execute_result"
    }
   ],
   "source": [
    "df.loc[:, ['country_code', 'aggregate_rating']].groupby('country_code').size().sort_values(ascending = False).head(1).reset_index()"
   ]
  },
  {
   "cell_type": "markdown",
   "id": "c62f0ab3-5e17-4cb5-9e88-53ac34747577",
   "metadata": {
    "jp-MarkdownHeadingCollapsed": true,
    "tags": []
   },
   "source": [
    "### 6. Qual o nome do país que possui a maior quantidade de restaurantes que fazem entrega?"
   ]
  },
  {
   "cell_type": "code",
   "execution_count": 25,
   "id": "4cebc4b6-e761-430e-ac14-a33b8d9b92dd",
   "metadata": {},
   "outputs": [
    {
     "data": {
      "text/html": [
       "<div>\n",
       "<style scoped>\n",
       "    .dataframe tbody tr th:only-of-type {\n",
       "        vertical-align: middle;\n",
       "    }\n",
       "\n",
       "    .dataframe tbody tr th {\n",
       "        vertical-align: top;\n",
       "    }\n",
       "\n",
       "    .dataframe thead th {\n",
       "        text-align: right;\n",
       "    }\n",
       "</style>\n",
       "<table border=\"1\" class=\"dataframe\">\n",
       "  <thead>\n",
       "    <tr style=\"text-align: right;\">\n",
       "      <th></th>\n",
       "      <th>index</th>\n",
       "      <th>country_code</th>\n",
       "    </tr>\n",
       "  </thead>\n",
       "  <tbody>\n",
       "    <tr>\n",
       "      <th>0</th>\n",
       "      <td>India</td>\n",
       "      <td>2177</td>\n",
       "    </tr>\n",
       "    <tr>\n",
       "      <th>1</th>\n",
       "      <td>United Arab Emirates</td>\n",
       "      <td>205</td>\n",
       "    </tr>\n",
       "    <tr>\n",
       "      <th>2</th>\n",
       "      <td>Qatar</td>\n",
       "      <td>37</td>\n",
       "    </tr>\n",
       "    <tr>\n",
       "      <th>3</th>\n",
       "      <td>Philippines</td>\n",
       "      <td>9</td>\n",
       "    </tr>\n",
       "  </tbody>\n",
       "</table>\n",
       "</div>"
      ],
      "text/plain": [
       "                  index  country_code\n",
       "0                 India          2177\n",
       "1  United Arab Emirates           205\n",
       "2                 Qatar            37\n",
       "3           Philippines             9"
      ]
     },
     "execution_count": 25,
     "metadata": {},
     "output_type": "execute_result"
    }
   ],
   "source": [
    "df.loc[df['has_online_delivery'] == 1, 'country_code'].value_counts().reset_index()"
   ]
  },
  {
   "cell_type": "markdown",
   "id": "621790b0-408e-4e77-8829-335b27d77fa9",
   "metadata": {
    "jp-MarkdownHeadingCollapsed": true,
    "tags": []
   },
   "source": [
    "### 7. Qual o nome do país que possui a maior quantidade de restaurantes que aceitam reservas?"
   ]
  },
  {
   "cell_type": "code",
   "execution_count": 26,
   "id": "41af4701-b644-4127-ae5e-2540226b6d42",
   "metadata": {},
   "outputs": [
    {
     "data": {
      "text/html": [
       "<div>\n",
       "<style scoped>\n",
       "    .dataframe tbody tr th:only-of-type {\n",
       "        vertical-align: middle;\n",
       "    }\n",
       "\n",
       "    .dataframe tbody tr th {\n",
       "        vertical-align: top;\n",
       "    }\n",
       "\n",
       "    .dataframe thead th {\n",
       "        text-align: right;\n",
       "    }\n",
       "</style>\n",
       "<table border=\"1\" class=\"dataframe\">\n",
       "  <thead>\n",
       "    <tr style=\"text-align: right;\">\n",
       "      <th></th>\n",
       "      <th>country_code</th>\n",
       "      <th>0</th>\n",
       "    </tr>\n",
       "  </thead>\n",
       "  <tbody>\n",
       "    <tr>\n",
       "      <th>0</th>\n",
       "      <td>India</td>\n",
       "      <td>256</td>\n",
       "    </tr>\n",
       "    <tr>\n",
       "      <th>1</th>\n",
       "      <td>England</td>\n",
       "      <td>55</td>\n",
       "    </tr>\n",
       "    <tr>\n",
       "      <th>2</th>\n",
       "      <td>Australia</td>\n",
       "      <td>29</td>\n",
       "    </tr>\n",
       "    <tr>\n",
       "      <th>3</th>\n",
       "      <td>Philippines</td>\n",
       "      <td>22</td>\n",
       "    </tr>\n",
       "    <tr>\n",
       "      <th>4</th>\n",
       "      <td>New Zeland</td>\n",
       "      <td>19</td>\n",
       "    </tr>\n",
       "  </tbody>\n",
       "</table>\n",
       "</div>"
      ],
      "text/plain": [
       "  country_code    0\n",
       "0        India  256\n",
       "1      England   55\n",
       "2    Australia   29\n",
       "3  Philippines   22\n",
       "4   New Zeland   19"
      ]
     },
     "execution_count": 26,
     "metadata": {},
     "output_type": "execute_result"
    }
   ],
   "source": [
    "(df.loc[df['has_table_booking'] == 1, ['city', 'country_code']]\n",
    "   .groupby('country_code')\n",
    "   .size()\n",
    "   .sort_values(ascending = False)\n",
    "   .head()\n",
    "   .reset_index())"
   ]
  },
  {
   "cell_type": "markdown",
   "id": "b27ce3a3-7718-4071-a077-f84dda50e3df",
   "metadata": {
    "jp-MarkdownHeadingCollapsed": true,
    "tags": []
   },
   "source": [
    "### 8. Qual o nome do país que possui, na média, a maior nota média registrada?"
   ]
  },
  {
   "cell_type": "code",
   "execution_count": 27,
   "id": "8b59a9b4-b0e2-4e3c-b54a-c6c752eb255e",
   "metadata": {},
   "outputs": [
    {
     "data": {
      "text/html": [
       "<div>\n",
       "<style scoped>\n",
       "    .dataframe tbody tr th:only-of-type {\n",
       "        vertical-align: middle;\n",
       "    }\n",
       "\n",
       "    .dataframe tbody tr th {\n",
       "        vertical-align: top;\n",
       "    }\n",
       "\n",
       "    .dataframe thead th {\n",
       "        text-align: right;\n",
       "    }\n",
       "</style>\n",
       "<table border=\"1\" class=\"dataframe\">\n",
       "  <thead>\n",
       "    <tr style=\"text-align: right;\">\n",
       "      <th></th>\n",
       "      <th>country_code</th>\n",
       "      <th>aggregate_rating</th>\n",
       "    </tr>\n",
       "  </thead>\n",
       "  <tbody>\n",
       "    <tr>\n",
       "      <th>0</th>\n",
       "      <td>Indonesia</td>\n",
       "      <td>4.60</td>\n",
       "    </tr>\n",
       "    <tr>\n",
       "      <th>1</th>\n",
       "      <td>Philippines</td>\n",
       "      <td>4.46</td>\n",
       "    </tr>\n",
       "    <tr>\n",
       "      <th>2</th>\n",
       "      <td>Singapure</td>\n",
       "      <td>4.44</td>\n",
       "    </tr>\n",
       "    <tr>\n",
       "      <th>3</th>\n",
       "      <td>United States of America</td>\n",
       "      <td>4.40</td>\n",
       "    </tr>\n",
       "    <tr>\n",
       "      <th>4</th>\n",
       "      <td>Australia</td>\n",
       "      <td>4.37</td>\n",
       "    </tr>\n",
       "  </tbody>\n",
       "</table>\n",
       "</div>"
      ],
      "text/plain": [
       "               country_code  aggregate_rating\n",
       "0                 Indonesia              4.60\n",
       "1               Philippines              4.46\n",
       "2                 Singapure              4.44\n",
       "3  United States of America              4.40\n",
       "4                 Australia              4.37"
      ]
     },
     "execution_count": 27,
     "metadata": {},
     "output_type": "execute_result"
    }
   ],
   "source": [
    "np.round (df.loc[:, ['country_code', 'aggregate_rating']].groupby('country_code').mean().sort_values('aggregate_rating', ascending = False).head(5).reset_index(),2)"
   ]
  },
  {
   "cell_type": "markdown",
   "id": "1497e6ac-6ee1-4df5-aec5-2cc8e773d71e",
   "metadata": {
    "jp-MarkdownHeadingCollapsed": true,
    "tags": []
   },
   "source": [
    "### 9. Qual o nome do país que possui, na média, a menor nota média registrada?"
   ]
  },
  {
   "cell_type": "code",
   "execution_count": 28,
   "id": "7de82388-0aba-4de8-84a1-6e614e25512e",
   "metadata": {},
   "outputs": [
    {
     "data": {
      "text/html": [
       "<div>\n",
       "<style scoped>\n",
       "    .dataframe tbody tr th:only-of-type {\n",
       "        vertical-align: middle;\n",
       "    }\n",
       "\n",
       "    .dataframe tbody tr th {\n",
       "        vertical-align: top;\n",
       "    }\n",
       "\n",
       "    .dataframe thead th {\n",
       "        text-align: right;\n",
       "    }\n",
       "</style>\n",
       "<table border=\"1\" class=\"dataframe\">\n",
       "  <thead>\n",
       "    <tr style=\"text-align: right;\">\n",
       "      <th></th>\n",
       "      <th>country_code</th>\n",
       "      <th>aggregate_rating</th>\n",
       "    </tr>\n",
       "  </thead>\n",
       "  <tbody>\n",
       "    <tr>\n",
       "      <th>0</th>\n",
       "      <td>Brazil</td>\n",
       "      <td>3.32</td>\n",
       "    </tr>\n",
       "    <tr>\n",
       "      <th>1</th>\n",
       "      <td>United Arab Emirates</td>\n",
       "      <td>4.02</td>\n",
       "    </tr>\n",
       "    <tr>\n",
       "      <th>2</th>\n",
       "      <td>India</td>\n",
       "      <td>4.04</td>\n",
       "    </tr>\n",
       "    <tr>\n",
       "      <th>3</th>\n",
       "      <td>England</td>\n",
       "      <td>4.04</td>\n",
       "    </tr>\n",
       "    <tr>\n",
       "      <th>4</th>\n",
       "      <td>Sri Lanka</td>\n",
       "      <td>4.06</td>\n",
       "    </tr>\n",
       "  </tbody>\n",
       "</table>\n",
       "</div>"
      ],
      "text/plain": [
       "           country_code  aggregate_rating\n",
       "0                Brazil              3.32\n",
       "1  United Arab Emirates              4.02\n",
       "2                 India              4.04\n",
       "3               England              4.04\n",
       "4             Sri Lanka              4.06"
      ]
     },
     "execution_count": 28,
     "metadata": {},
     "output_type": "execute_result"
    }
   ],
   "source": [
    "np.round(df.loc[:, ['country_code', 'aggregate_rating']].groupby('country_code').mean().sort_values('aggregate_rating', ascending = True).head(5).reset_index(),2)"
   ]
  },
  {
   "cell_type": "markdown",
   "id": "54d6c260-945e-416f-b85b-1ee174347b32",
   "metadata": {
    "jp-MarkdownHeadingCollapsed": true,
    "tags": []
   },
   "source": [
    "### 10. Qual é a média de preço de um prato para dois por país?"
   ]
  },
  {
   "cell_type": "code",
   "execution_count": 29,
   "id": "4c999143-c61a-4a92-a2f9-fa7cbaba642c",
   "metadata": {},
   "outputs": [
    {
     "data": {
      "text/html": [
       "<div>\n",
       "<style scoped>\n",
       "    .dataframe tbody tr th:only-of-type {\n",
       "        vertical-align: middle;\n",
       "    }\n",
       "\n",
       "    .dataframe tbody tr th {\n",
       "        vertical-align: top;\n",
       "    }\n",
       "\n",
       "    .dataframe thead th {\n",
       "        text-align: right;\n",
       "    }\n",
       "</style>\n",
       "<table border=\"1\" class=\"dataframe\">\n",
       "  <thead>\n",
       "    <tr style=\"text-align: right;\">\n",
       "      <th></th>\n",
       "      <th>country_code</th>\n",
       "      <th>average_cost_for_two</th>\n",
       "    </tr>\n",
       "  </thead>\n",
       "  <tbody>\n",
       "    <tr>\n",
       "      <th>0</th>\n",
       "      <td>Indonesia</td>\n",
       "      <td>303000.00</td>\n",
       "    </tr>\n",
       "    <tr>\n",
       "      <th>1</th>\n",
       "      <td>Australia</td>\n",
       "      <td>138959.78</td>\n",
       "    </tr>\n",
       "    <tr>\n",
       "      <th>2</th>\n",
       "      <td>Sri Lanka</td>\n",
       "      <td>2579.38</td>\n",
       "    </tr>\n",
       "    <tr>\n",
       "      <th>3</th>\n",
       "      <td>Philippines</td>\n",
       "      <td>1227.82</td>\n",
       "    </tr>\n",
       "    <tr>\n",
       "      <th>4</th>\n",
       "      <td>India</td>\n",
       "      <td>704.40</td>\n",
       "    </tr>\n",
       "    <tr>\n",
       "      <th>5</th>\n",
       "      <td>South Africa</td>\n",
       "      <td>339.23</td>\n",
       "    </tr>\n",
       "    <tr>\n",
       "      <th>6</th>\n",
       "      <td>Qatar</td>\n",
       "      <td>174.00</td>\n",
       "    </tr>\n",
       "    <tr>\n",
       "      <th>7</th>\n",
       "      <td>United Arab Emirates</td>\n",
       "      <td>153.72</td>\n",
       "    </tr>\n",
       "    <tr>\n",
       "      <th>8</th>\n",
       "      <td>Singapure</td>\n",
       "      <td>141.44</td>\n",
       "    </tr>\n",
       "    <tr>\n",
       "      <th>9</th>\n",
       "      <td>Brazil</td>\n",
       "      <td>138.81</td>\n",
       "    </tr>\n",
       "    <tr>\n",
       "      <th>10</th>\n",
       "      <td>Turkey</td>\n",
       "      <td>128.58</td>\n",
       "    </tr>\n",
       "    <tr>\n",
       "      <th>11</th>\n",
       "      <td>New Zeland</td>\n",
       "      <td>62.15</td>\n",
       "    </tr>\n",
       "    <tr>\n",
       "      <th>12</th>\n",
       "      <td>United States of America</td>\n",
       "      <td>55.03</td>\n",
       "    </tr>\n",
       "    <tr>\n",
       "      <th>13</th>\n",
       "      <td>England</td>\n",
       "      <td>43.51</td>\n",
       "    </tr>\n",
       "    <tr>\n",
       "      <th>14</th>\n",
       "      <td>Canada</td>\n",
       "      <td>41.86</td>\n",
       "    </tr>\n",
       "  </tbody>\n",
       "</table>\n",
       "</div>"
      ],
      "text/plain": [
       "                country_code  average_cost_for_two\n",
       "0                  Indonesia             303000.00\n",
       "1                  Australia             138959.78\n",
       "2                  Sri Lanka               2579.38\n",
       "3                Philippines               1227.82\n",
       "4                      India                704.40\n",
       "5               South Africa                339.23\n",
       "6                      Qatar                174.00\n",
       "7       United Arab Emirates                153.72\n",
       "8                  Singapure                141.44\n",
       "9                     Brazil                138.81\n",
       "10                    Turkey                128.58\n",
       "11                New Zeland                 62.15\n",
       "12  United States of America                 55.03\n",
       "13                   England                 43.51\n",
       "14                    Canada                 41.86"
      ]
     },
     "execution_count": 29,
     "metadata": {},
     "output_type": "execute_result"
    }
   ],
   "source": [
    "np.round(df.loc[:, ['country_code', 'average_cost_for_two']].groupby('country_code').mean().sort_values('average_cost_for_two', ascending = False).reset_index(),2)"
   ]
  },
  {
   "cell_type": "markdown",
   "id": "fb58cd3d-fe72-4b83-98ec-832bf9afb2d3",
   "metadata": {
    "jp-MarkdownHeadingCollapsed": true,
    "tags": []
   },
   "source": [
    "## 3.3. Análise Restaurantes"
   ]
  },
  {
   "cell_type": "markdown",
   "id": "e02b740a-968b-456b-9ba4-2b754ffc1dba",
   "metadata": {
    "jp-MarkdownHeadingCollapsed": true,
    "tags": []
   },
   "source": [
    "### 1. Qual o nome do restaurante  que possui maior quantidade de avaliações?"
   ]
  },
  {
   "cell_type": "code",
   "execution_count": 30,
   "id": "db96fab0-3fa5-4c7d-8e5b-af5ffd691bb9",
   "metadata": {},
   "outputs": [
    {
     "data": {
      "text/html": [
       "<div>\n",
       "<style scoped>\n",
       "    .dataframe tbody tr th:only-of-type {\n",
       "        vertical-align: middle;\n",
       "    }\n",
       "\n",
       "    .dataframe tbody tr th {\n",
       "        vertical-align: top;\n",
       "    }\n",
       "\n",
       "    .dataframe thead th {\n",
       "        text-align: right;\n",
       "    }\n",
       "</style>\n",
       "<table border=\"1\" class=\"dataframe\">\n",
       "  <thead>\n",
       "    <tr style=\"text-align: right;\">\n",
       "      <th></th>\n",
       "      <th>restaurant_name</th>\n",
       "      <th>aggregate_rating</th>\n",
       "      <th>votes</th>\n",
       "      <th>country_code</th>\n",
       "      <th>city</th>\n",
       "    </tr>\n",
       "  </thead>\n",
       "  <tbody>\n",
       "    <tr>\n",
       "      <th>0</th>\n",
       "      <td>Bawarchi</td>\n",
       "      <td>4.5</td>\n",
       "      <td>41333</td>\n",
       "      <td>India</td>\n",
       "      <td>Hyderabad</td>\n",
       "    </tr>\n",
       "  </tbody>\n",
       "</table>\n",
       "</div>"
      ],
      "text/plain": [
       "  restaurant_name  aggregate_rating  votes country_code       city\n",
       "0        Bawarchi               4.5  41333        India  Hyderabad"
      ]
     },
     "execution_count": 30,
     "metadata": {},
     "output_type": "execute_result"
    }
   ],
   "source": [
    "(df.loc[:, ['votes', 'restaurant_name', 'country_code', 'city', 'aggregate_rating']]\n",
    "  .groupby(['restaurant_name', 'aggregate_rating', 'votes'])\n",
    "  .sum()\n",
    "  .sort_values(by='votes', ascending = False)\n",
    "  .head(1)\n",
    "  .reset_index())"
   ]
  },
  {
   "cell_type": "markdown",
   "id": "4738c608-553d-49f4-afc4-dabe5ffa950e",
   "metadata": {
    "jp-MarkdownHeadingCollapsed": true,
    "tags": []
   },
   "source": [
    "### 2. Qual o nome do restaurante com maior nota média?"
   ]
  },
  {
   "cell_type": "code",
   "execution_count": 31,
   "id": "a270ddc8-939c-4915-982e-fef6e058e1e7",
   "metadata": {},
   "outputs": [
    {
     "data": {
      "text/html": [
       "<div>\n",
       "<style scoped>\n",
       "    .dataframe tbody tr th:only-of-type {\n",
       "        vertical-align: middle;\n",
       "    }\n",
       "\n",
       "    .dataframe tbody tr th {\n",
       "        vertical-align: top;\n",
       "    }\n",
       "\n",
       "    .dataframe thead th {\n",
       "        text-align: right;\n",
       "    }\n",
       "</style>\n",
       "<table border=\"1\" class=\"dataframe\">\n",
       "  <thead>\n",
       "    <tr style=\"text-align: right;\">\n",
       "      <th></th>\n",
       "      <th>index</th>\n",
       "      <th>restaurant_name</th>\n",
       "      <th>aggregate_rating</th>\n",
       "      <th>votes</th>\n",
       "      <th>country_code</th>\n",
       "      <th>city</th>\n",
       "    </tr>\n",
       "  </thead>\n",
       "  <tbody>\n",
       "    <tr>\n",
       "      <th>0</th>\n",
       "      <td>3038</td>\n",
       "      <td>Byg Brewski Brewing Company</td>\n",
       "      <td>4.9</td>\n",
       "      <td>17394</td>\n",
       "      <td>India</td>\n",
       "      <td>Bangalore</td>\n",
       "    </tr>\n",
       "  </tbody>\n",
       "</table>\n",
       "</div>"
      ],
      "text/plain": [
       "   index              restaurant_name  aggregate_rating  votes country_code  \\\n",
       "0   3038  Byg Brewski Brewing Company               4.9  17394        India   \n",
       "\n",
       "        city  \n",
       "0  Bangalore  "
      ]
     },
     "execution_count": 31,
     "metadata": {},
     "output_type": "execute_result"
    }
   ],
   "source": [
    "linhas = df['aggregate_rating'] == 4.9\n",
    "df.loc[linhas, ['restaurant_name', 'aggregate_rating', 'votes', 'country_code','city']].sort_values(by='votes', ascending = False).head(1).reset_index()"
   ]
  },
  {
   "cell_type": "code",
   "execution_count": 32,
   "id": "52d6c91a-8283-40db-aac2-d2a54fbf432b",
   "metadata": {},
   "outputs": [
    {
     "data": {
      "text/html": [
       "<div>\n",
       "<style scoped>\n",
       "    .dataframe tbody tr th:only-of-type {\n",
       "        vertical-align: middle;\n",
       "    }\n",
       "\n",
       "    .dataframe tbody tr th {\n",
       "        vertical-align: top;\n",
       "    }\n",
       "\n",
       "    .dataframe thead th {\n",
       "        text-align: right;\n",
       "    }\n",
       "</style>\n",
       "<table border=\"1\" class=\"dataframe\">\n",
       "  <thead>\n",
       "    <tr style=\"text-align: right;\">\n",
       "      <th></th>\n",
       "      <th>restaurant_name</th>\n",
       "      <th>address</th>\n",
       "      <th>aggregate_rating</th>\n",
       "    </tr>\n",
       "  </thead>\n",
       "  <tbody>\n",
       "    <tr>\n",
       "      <th>2975</th>\n",
       "      <td>Byg Brewski Brewing Company</td>\n",
       "      <td>22/123, Byrathi Village, Bidarahalli Hobli, He...</td>\n",
       "      <td>4.8</td>\n",
       "    </tr>\n",
       "    <tr>\n",
       "      <th>3038</th>\n",
       "      <td>Byg Brewski Brewing Company</td>\n",
       "      <td>Behind MK Retail, Sarjapur Road, Bangalore</td>\n",
       "      <td>4.9</td>\n",
       "    </tr>\n",
       "  </tbody>\n",
       "</table>\n",
       "</div>"
      ],
      "text/plain": [
       "                  restaurant_name  \\\n",
       "2975  Byg Brewski Brewing Company   \n",
       "3038  Byg Brewski Brewing Company   \n",
       "\n",
       "                                                address  aggregate_rating  \n",
       "2975  22/123, Byrathi Village, Bidarahalli Hobli, He...               4.8  \n",
       "3038         Behind MK Retail, Sarjapur Road, Bangalore               4.9  "
      ]
     },
     "execution_count": 32,
     "metadata": {},
     "output_type": "execute_result"
    }
   ],
   "source": [
    "df.loc[df['restaurant_name'] == 'Byg Brewski Brewing Company',['restaurant_name', 'address', 'aggregate_rating']]"
   ]
  },
  {
   "cell_type": "markdown",
   "id": "4c2bca00-33ba-4c93-83f1-7a8680adbb8b",
   "metadata": {
    "jp-MarkdownHeadingCollapsed": true,
    "tags": []
   },
   "source": [
    "### 3. Qual o nome do restaurante que possui o maior valor de um prato para duas pessoas?"
   ]
  },
  {
   "cell_type": "code",
   "execution_count": 33,
   "id": "018a90fb-c130-471f-8158-735a75a24e16",
   "metadata": {},
   "outputs": [
    {
     "data": {
      "text/html": [
       "<div>\n",
       "<style scoped>\n",
       "    .dataframe tbody tr th:only-of-type {\n",
       "        vertical-align: middle;\n",
       "    }\n",
       "\n",
       "    .dataframe tbody tr th {\n",
       "        vertical-align: top;\n",
       "    }\n",
       "\n",
       "    .dataframe thead th {\n",
       "        text-align: right;\n",
       "    }\n",
       "</style>\n",
       "<table border=\"1\" class=\"dataframe\">\n",
       "  <thead>\n",
       "    <tr style=\"text-align: right;\">\n",
       "      <th></th>\n",
       "      <th>index</th>\n",
       "      <th>restaurant_name</th>\n",
       "      <th>average_cost_for_two</th>\n",
       "      <th>cuisines</th>\n",
       "      <th>country_code</th>\n",
       "    </tr>\n",
       "  </thead>\n",
       "  <tbody>\n",
       "    <tr>\n",
       "      <th>0</th>\n",
       "      <td>385</td>\n",
       "      <td>D'Arry'S Verandah Restaurant</td>\n",
       "      <td>25000017</td>\n",
       "      <td>Modern Australian</td>\n",
       "      <td>Australia</td>\n",
       "    </tr>\n",
       "  </tbody>\n",
       "</table>\n",
       "</div>"
      ],
      "text/plain": [
       "   index               restaurant_name  average_cost_for_two  \\\n",
       "0    385  D'Arry'S Verandah Restaurant              25000017   \n",
       "\n",
       "            cuisines country_code  \n",
       "0  Modern Australian    Australia  "
      ]
     },
     "execution_count": 33,
     "metadata": {},
     "output_type": "execute_result"
    }
   ],
   "source": [
    "df.loc[:, ['restaurant_name','average_cost_for_two', 'cuisines', 'country_code']].sort_values(by='average_cost_for_two', ascending = False).head(1).reset_index()"
   ]
  },
  {
   "cell_type": "markdown",
   "id": "1bf73503-72cb-4310-b0d3-f1a03c96b525",
   "metadata": {
    "jp-MarkdownHeadingCollapsed": true,
    "tags": []
   },
   "source": [
    "### 4. Qual o nome do restaurante de tipo de culinária brasileira que possui a maior média de avaliação?"
   ]
  },
  {
   "cell_type": "code",
   "execution_count": 34,
   "id": "cc6f35c9-a351-4ecd-ac92-e4b1338d794d",
   "metadata": {},
   "outputs": [
    {
     "data": {
      "text/html": [
       "<div>\n",
       "<style scoped>\n",
       "    .dataframe tbody tr th:only-of-type {\n",
       "        vertical-align: middle;\n",
       "    }\n",
       "\n",
       "    .dataframe tbody tr th {\n",
       "        vertical-align: top;\n",
       "    }\n",
       "\n",
       "    .dataframe thead th {\n",
       "        text-align: right;\n",
       "    }\n",
       "</style>\n",
       "<table border=\"1\" class=\"dataframe\">\n",
       "  <thead>\n",
       "    <tr style=\"text-align: right;\">\n",
       "      <th></th>\n",
       "      <th>index</th>\n",
       "      <th>restaurant_name</th>\n",
       "      <th>country_code</th>\n",
       "      <th>city</th>\n",
       "      <th>cuisines</th>\n",
       "      <th>aggregate_rating</th>\n",
       "      <th>votes</th>\n",
       "    </tr>\n",
       "  </thead>\n",
       "  <tbody>\n",
       "    <tr>\n",
       "      <th>0</th>\n",
       "      <td>254</td>\n",
       "      <td>Aprazível</td>\n",
       "      <td>Brazil</td>\n",
       "      <td>Rio de Janeiro</td>\n",
       "      <td>Brazilian</td>\n",
       "      <td>4.9</td>\n",
       "      <td>63</td>\n",
       "    </tr>\n",
       "  </tbody>\n",
       "</table>\n",
       "</div>"
      ],
      "text/plain": [
       "   index restaurant_name country_code            city   cuisines  \\\n",
       "0    254       Aprazível       Brazil  Rio de Janeiro  Brazilian   \n",
       "\n",
       "   aggregate_rating  votes  \n",
       "0               4.9     63  "
      ]
     },
     "execution_count": 34,
     "metadata": {},
     "output_type": "execute_result"
    }
   ],
   "source": [
    "(df.loc[(df['country_code'] == 'Brazil') & (df['aggregate_rating']  == 4.9), ['restaurant_name', 'country_code', 'city', 'cuisines', 'aggregate_rating', 'votes']]\n",
    "   .sort_values(by = 'votes', ascending = False)\n",
    "   .head(1)\n",
    "   .reset_index())"
   ]
  },
  {
   "cell_type": "markdown",
   "id": "74b8abef-ea05-4dfe-b360-211bbaad99bd",
   "metadata": {
    "jp-MarkdownHeadingCollapsed": true,
    "tags": []
   },
   "source": [
    "### 5. Qual o nome do restaurante de tipo de culinária brasileira que possui a menor média de avaliação?"
   ]
  },
  {
   "cell_type": "code",
   "execution_count": 35,
   "id": "29394e39-63b2-4514-b6fa-332c3aed88e1",
   "metadata": {},
   "outputs": [
    {
     "data": {
      "text/html": [
       "<div>\n",
       "<style scoped>\n",
       "    .dataframe tbody tr th:only-of-type {\n",
       "        vertical-align: middle;\n",
       "    }\n",
       "\n",
       "    .dataframe tbody tr th {\n",
       "        vertical-align: top;\n",
       "    }\n",
       "\n",
       "    .dataframe thead th {\n",
       "        text-align: right;\n",
       "    }\n",
       "</style>\n",
       "<table border=\"1\" class=\"dataframe\">\n",
       "  <thead>\n",
       "    <tr style=\"text-align: right;\">\n",
       "      <th></th>\n",
       "      <th>index</th>\n",
       "      <th>restaurant_name</th>\n",
       "      <th>country_code</th>\n",
       "      <th>city</th>\n",
       "      <th>cuisines</th>\n",
       "      <th>aggregate_rating</th>\n",
       "      <th>votes</th>\n",
       "    </tr>\n",
       "  </thead>\n",
       "  <tbody>\n",
       "    <tr>\n",
       "      <th>0</th>\n",
       "      <td>245</td>\n",
       "      <td>Natu Sucos</td>\n",
       "      <td>Brazil</td>\n",
       "      <td>Rio de Janeiro</td>\n",
       "      <td>Healthy Food</td>\n",
       "      <td>2.3</td>\n",
       "      <td>3</td>\n",
       "    </tr>\n",
       "  </tbody>\n",
       "</table>\n",
       "</div>"
      ],
      "text/plain": [
       "   index restaurant_name country_code            city      cuisines  \\\n",
       "0    245      Natu Sucos       Brazil  Rio de Janeiro  Healthy Food   \n",
       "\n",
       "   aggregate_rating  votes  \n",
       "0               2.3      3  "
      ]
     },
     "execution_count": 35,
     "metadata": {},
     "output_type": "execute_result"
    }
   ],
   "source": [
    "(df.loc[(df['country_code'] == 'Brazil') & (df['aggregate_rating']  != 0.0), ['restaurant_name', 'country_code', 'city', 'cuisines', 'aggregate_rating', 'votes']]\n",
    "   .sort_values(by = 'aggregate_rating', ascending = True)\n",
    "   .head(1)\n",
    "   .reset_index())"
   ]
  },
  {
   "cell_type": "markdown",
   "id": "eea3fa20-ad15-4644-b77c-3cb4504ea94a",
   "metadata": {
    "jp-MarkdownHeadingCollapsed": true,
    "tags": []
   },
   "source": [
    "### 6. Os restaurantes que aceitam pedido online são também, na média, os restaurantes que mais possuem avaliações registradas?"
   ]
  },
  {
   "cell_type": "code",
   "execution_count": 36,
   "id": "57f20615-0d36-40e1-a172-a211daa6a06a",
   "metadata": {},
   "outputs": [
    {
     "data": {
      "text/html": [
       "<div>\n",
       "<style scoped>\n",
       "    .dataframe tbody tr th:only-of-type {\n",
       "        vertical-align: middle;\n",
       "    }\n",
       "\n",
       "    .dataframe tbody tr th {\n",
       "        vertical-align: top;\n",
       "    }\n",
       "\n",
       "    .dataframe thead th {\n",
       "        text-align: right;\n",
       "    }\n",
       "</style>\n",
       "<table border=\"1\" class=\"dataframe\">\n",
       "  <thead>\n",
       "    <tr style=\"text-align: right;\">\n",
       "      <th></th>\n",
       "      <th>index</th>\n",
       "      <th>votes</th>\n",
       "    </tr>\n",
       "  </thead>\n",
       "  <tbody>\n",
       "    <tr>\n",
       "      <th>0</th>\n",
       "      <td>sum</td>\n",
       "      <td>2036659.00</td>\n",
       "    </tr>\n",
       "    <tr>\n",
       "      <th>1</th>\n",
       "      <td>count</td>\n",
       "      <td>2428.00</td>\n",
       "    </tr>\n",
       "    <tr>\n",
       "      <th>2</th>\n",
       "      <td>mean</td>\n",
       "      <td>838.82</td>\n",
       "    </tr>\n",
       "  </tbody>\n",
       "</table>\n",
       "</div>"
      ],
      "text/plain": [
       "   index       votes\n",
       "0    sum  2036659.00\n",
       "1  count     2428.00\n",
       "2   mean      838.82"
      ]
     },
     "execution_count": 36,
     "metadata": {},
     "output_type": "execute_result"
    }
   ],
   "source": [
    "round(df.loc[(df['has_online_delivery'] == 1), 'votes'].agg(['sum', 'count','mean']).reset_index(),2)"
   ]
  },
  {
   "cell_type": "code",
   "execution_count": 37,
   "id": "6c0fc253-a53d-4ddb-953b-385c725945a1",
   "metadata": {},
   "outputs": [
    {
     "name": "stdout",
     "output_type": "stream",
     "text": [
      "Os restaurantes que ACEITAM pedido online, tem média 4.1\n"
     ]
    }
   ],
   "source": [
    "r = np.round(df.loc[(df['has_online_delivery'] == 1), 'aggregate_rating'].mean(),2)\n",
    "print(f'Os restaurantes que ACEITAM pedido online, tem média {r}')"
   ]
  },
  {
   "cell_type": "markdown",
   "id": "7bd30dd5-ed59-4d6b-8c1d-c2eb8814dc17",
   "metadata": {},
   "source": [
    "---"
   ]
  },
  {
   "cell_type": "code",
   "execution_count": 38,
   "id": "fbca5f22-7378-4fde-b593-77f3d6f63a29",
   "metadata": {},
   "outputs": [
    {
     "data": {
      "text/html": [
       "<div>\n",
       "<style scoped>\n",
       "    .dataframe tbody tr th:only-of-type {\n",
       "        vertical-align: middle;\n",
       "    }\n",
       "\n",
       "    .dataframe tbody tr th {\n",
       "        vertical-align: top;\n",
       "    }\n",
       "\n",
       "    .dataframe thead th {\n",
       "        text-align: right;\n",
       "    }\n",
       "</style>\n",
       "<table border=\"1\" class=\"dataframe\">\n",
       "  <thead>\n",
       "    <tr style=\"text-align: right;\">\n",
       "      <th></th>\n",
       "      <th>index</th>\n",
       "      <th>votes</th>\n",
       "    </tr>\n",
       "  </thead>\n",
       "  <tbody>\n",
       "    <tr>\n",
       "      <th>0</th>\n",
       "      <td>sum</td>\n",
       "      <td>2157874.00</td>\n",
       "    </tr>\n",
       "    <tr>\n",
       "      <th>1</th>\n",
       "      <td>count</td>\n",
       "      <td>4501.00</td>\n",
       "    </tr>\n",
       "    <tr>\n",
       "      <th>2</th>\n",
       "      <td>mean</td>\n",
       "      <td>479.42</td>\n",
       "    </tr>\n",
       "  </tbody>\n",
       "</table>\n",
       "</div>"
      ],
      "text/plain": [
       "   index       votes\n",
       "0    sum  2157874.00\n",
       "1  count     4501.00\n",
       "2   mean      479.42"
      ]
     },
     "execution_count": 38,
     "metadata": {},
     "output_type": "execute_result"
    }
   ],
   "source": [
    "round(df.loc[(df['has_online_delivery'] == 0), 'votes'].agg(['sum', 'count','mean']).reset_index(),2)"
   ]
  },
  {
   "cell_type": "code",
   "execution_count": 39,
   "id": "1bc84b6c-a0a6-45a8-8674-d4e178b26adc",
   "metadata": {},
   "outputs": [
    {
     "name": "stdout",
     "output_type": "stream",
     "text": [
      "Os restaurantes que  NÃO ACEITAM pedido online, tem média 4.15\n"
     ]
    }
   ],
   "source": [
    "r = np.round(df.loc[(df['has_online_delivery'] == 0), 'aggregate_rating'].mean(),2)\n",
    "print(f'Os restaurantes que  NÃO ACEITAM pedido online, tem média {r}')"
   ]
  },
  {
   "cell_type": "markdown",
   "id": "01798744-0046-4a08-813b-c3de38d0fcee",
   "metadata": {
    "jp-MarkdownHeadingCollapsed": true,
    "tags": []
   },
   "source": [
    "### 7. Os restaurantes que fazem reservas são também, na média, os restaurantes que possuem o maior valor médio de um prato para duas pessoas?"
   ]
  },
  {
   "cell_type": "code",
   "execution_count": 40,
   "id": "79fe8d7e-78c3-42c6-93c6-1450127a6fee",
   "metadata": {},
   "outputs": [
    {
     "data": {
      "text/html": [
       "<div>\n",
       "<style scoped>\n",
       "    .dataframe tbody tr th:only-of-type {\n",
       "        vertical-align: middle;\n",
       "    }\n",
       "\n",
       "    .dataframe tbody tr th {\n",
       "        vertical-align: top;\n",
       "    }\n",
       "\n",
       "    .dataframe thead th {\n",
       "        text-align: right;\n",
       "    }\n",
       "</style>\n",
       "<table border=\"1\" class=\"dataframe\">\n",
       "  <thead>\n",
       "    <tr style=\"text-align: right;\">\n",
       "      <th></th>\n",
       "      <th>index</th>\n",
       "      <th>average_cost_for_two</th>\n",
       "    </tr>\n",
       "  </thead>\n",
       "  <tbody>\n",
       "    <tr>\n",
       "      <th>0</th>\n",
       "      <td>sum</td>\n",
       "      <td>29399338.00</td>\n",
       "    </tr>\n",
       "    <tr>\n",
       "      <th>1</th>\n",
       "      <td>count</td>\n",
       "      <td>420.00</td>\n",
       "    </tr>\n",
       "    <tr>\n",
       "      <th>2</th>\n",
       "      <td>mean</td>\n",
       "      <td>69998.42</td>\n",
       "    </tr>\n",
       "  </tbody>\n",
       "</table>\n",
       "</div>"
      ],
      "text/plain": [
       "   index  average_cost_for_two\n",
       "0    sum           29399338.00\n",
       "1  count                420.00\n",
       "2   mean              69998.42"
      ]
     },
     "execution_count": 40,
     "metadata": {},
     "output_type": "execute_result"
    }
   ],
   "source": [
    "round(df.loc[(df['has_table_booking'] == 1), 'average_cost_for_two'].agg(['sum', 'count','mean']).reset_index(),2)"
   ]
  },
  {
   "cell_type": "markdown",
   "id": "54d7df1e-48bf-4d3a-ac14-f467bbfa2ce1",
   "metadata": {},
   "source": [
    "----------------------------------------------------------------------------------------------------------------------------------------------------------------------------"
   ]
  },
  {
   "cell_type": "code",
   "execution_count": 41,
   "id": "660c4f55-e446-4771-8854-c7314077c053",
   "metadata": {},
   "outputs": [
    {
     "data": {
      "text/html": [
       "<div>\n",
       "<style scoped>\n",
       "    .dataframe tbody tr th:only-of-type {\n",
       "        vertical-align: middle;\n",
       "    }\n",
       "\n",
       "    .dataframe tbody tr th {\n",
       "        vertical-align: top;\n",
       "    }\n",
       "\n",
       "    .dataframe thead th {\n",
       "        text-align: right;\n",
       "    }\n",
       "</style>\n",
       "<table border=\"1\" class=\"dataframe\">\n",
       "  <thead>\n",
       "    <tr style=\"text-align: right;\">\n",
       "      <th></th>\n",
       "      <th>index</th>\n",
       "      <th>average_cost_for_two</th>\n",
       "    </tr>\n",
       "  </thead>\n",
       "  <tbody>\n",
       "    <tr>\n",
       "      <th>0</th>\n",
       "      <td>sum</td>\n",
       "      <td>22707277.0</td>\n",
       "    </tr>\n",
       "    <tr>\n",
       "      <th>1</th>\n",
       "      <td>count</td>\n",
       "      <td>6509.0</td>\n",
       "    </tr>\n",
       "    <tr>\n",
       "      <th>2</th>\n",
       "      <td>mean</td>\n",
       "      <td>3488.6</td>\n",
       "    </tr>\n",
       "  </tbody>\n",
       "</table>\n",
       "</div>"
      ],
      "text/plain": [
       "   index  average_cost_for_two\n",
       "0    sum            22707277.0\n",
       "1  count                6509.0\n",
       "2   mean                3488.6"
      ]
     },
     "execution_count": 41,
     "metadata": {},
     "output_type": "execute_result"
    }
   ],
   "source": [
    "round(df.loc[(df['has_table_booking'] == 0), 'average_cost_for_two'].agg(['sum', 'count','mean']).reset_index(),2)"
   ]
  },
  {
   "cell_type": "markdown",
   "id": "13f3986c-9a59-4727-b39a-ef2254f67d32",
   "metadata": {
    "jp-MarkdownHeadingCollapsed": true,
    "tags": []
   },
   "source": [
    "### 8. Os restaurantes do tipo culinária japonesa dos EUA possuem um valor médio de prato para duas pessoas maior que as churrascarias americanas (BBQ)?"
   ]
  },
  {
   "cell_type": "code",
   "execution_count": 42,
   "id": "94ee1033-2cfc-4b23-bf18-8835ab0d92e3",
   "metadata": {},
   "outputs": [
    {
     "data": {
      "text/html": [
       "<div>\n",
       "<style scoped>\n",
       "    .dataframe tbody tr th:only-of-type {\n",
       "        vertical-align: middle;\n",
       "    }\n",
       "\n",
       "    .dataframe tbody tr th {\n",
       "        vertical-align: top;\n",
       "    }\n",
       "\n",
       "    .dataframe thead th {\n",
       "        text-align: right;\n",
       "    }\n",
       "</style>\n",
       "<table border=\"1\" class=\"dataframe\">\n",
       "  <thead>\n",
       "    <tr style=\"text-align: right;\">\n",
       "      <th></th>\n",
       "      <th>index</th>\n",
       "      <th>average_cost_for_two</th>\n",
       "    </tr>\n",
       "  </thead>\n",
       "  <tbody>\n",
       "    <tr>\n",
       "      <th>0</th>\n",
       "      <td>sum</td>\n",
       "      <td>1805.00</td>\n",
       "    </tr>\n",
       "    <tr>\n",
       "      <th>1</th>\n",
       "      <td>count</td>\n",
       "      <td>32.00</td>\n",
       "    </tr>\n",
       "    <tr>\n",
       "      <th>2</th>\n",
       "      <td>mean</td>\n",
       "      <td>56.41</td>\n",
       "    </tr>\n",
       "  </tbody>\n",
       "</table>\n",
       "</div>"
      ],
      "text/plain": [
       "   index  average_cost_for_two\n",
       "0    sum               1805.00\n",
       "1  count                 32.00\n",
       "2   mean                 56.41"
      ]
     },
     "execution_count": 42,
     "metadata": {},
     "output_type": "execute_result"
    }
   ],
   "source": [
    "round(df.loc[(df['cuisines'] == 'Japanese') & (df['country_code'] == 'United States of America'), 'average_cost_for_two'].agg(['sum', 'count','mean']).reset_index(),2)"
   ]
  },
  {
   "cell_type": "markdown",
   "id": "49b6eed8-7a69-4e96-8594-ef198bba5136",
   "metadata": {},
   "source": [
    "-----------------------------------------------------------------------------------------------------------------------------------------------------------------------------"
   ]
  },
  {
   "cell_type": "code",
   "execution_count": 43,
   "id": "9df8c353-eba7-45a9-88e1-30c7b7252615",
   "metadata": {},
   "outputs": [
    {
     "data": {
      "text/html": [
       "<div>\n",
       "<style scoped>\n",
       "    .dataframe tbody tr th:only-of-type {\n",
       "        vertical-align: middle;\n",
       "    }\n",
       "\n",
       "    .dataframe tbody tr th {\n",
       "        vertical-align: top;\n",
       "    }\n",
       "\n",
       "    .dataframe thead th {\n",
       "        text-align: right;\n",
       "    }\n",
       "</style>\n",
       "<table border=\"1\" class=\"dataframe\">\n",
       "  <thead>\n",
       "    <tr style=\"text-align: right;\">\n",
       "      <th></th>\n",
       "      <th>index</th>\n",
       "      <th>average_cost_for_two</th>\n",
       "    </tr>\n",
       "  </thead>\n",
       "  <tbody>\n",
       "    <tr>\n",
       "      <th>0</th>\n",
       "      <td>sum</td>\n",
       "      <td>1665.00</td>\n",
       "    </tr>\n",
       "    <tr>\n",
       "      <th>1</th>\n",
       "      <td>count</td>\n",
       "      <td>42.00</td>\n",
       "    </tr>\n",
       "    <tr>\n",
       "      <th>2</th>\n",
       "      <td>mean</td>\n",
       "      <td>39.64</td>\n",
       "    </tr>\n",
       "  </tbody>\n",
       "</table>\n",
       "</div>"
      ],
      "text/plain": [
       "   index  average_cost_for_two\n",
       "0    sum               1665.00\n",
       "1  count                 42.00\n",
       "2   mean                 39.64"
      ]
     },
     "execution_count": 43,
     "metadata": {},
     "output_type": "execute_result"
    }
   ],
   "source": [
    "round(df.loc[(df['cuisines'] == 'BBQ') & (df['country_code'] == 'United States of America'), 'average_cost_for_two'].agg(['sum', 'count','mean']).reset_index(),2)"
   ]
  },
  {
   "cell_type": "markdown",
   "id": "7f629853-9110-4acc-8fa8-bd7ffe1fb2b9",
   "metadata": {
    "jp-MarkdownHeadingCollapsed": true,
    "tags": []
   },
   "source": [
    "## 3.4. Análise Culinárias"
   ]
  },
  {
   "cell_type": "markdown",
   "id": "c7c1c9cb-e278-4dbc-92c1-f125faf93f87",
   "metadata": {
    "jp-MarkdownHeadingCollapsed": true,
    "tags": []
   },
   "source": [
    "### 1. Dos restaurantes que possuem o tipo de  culinária italiana, qual o nome do restaurante com a maior média de avaliação? "
   ]
  },
  {
   "cell_type": "code",
   "execution_count": 44,
   "id": "540d5502-2da4-49e2-9b53-65897efd480c",
   "metadata": {},
   "outputs": [
    {
     "data": {
      "text/html": [
       "<div>\n",
       "<style scoped>\n",
       "    .dataframe tbody tr th:only-of-type {\n",
       "        vertical-align: middle;\n",
       "    }\n",
       "\n",
       "    .dataframe tbody tr th {\n",
       "        vertical-align: top;\n",
       "    }\n",
       "\n",
       "    .dataframe thead th {\n",
       "        text-align: right;\n",
       "    }\n",
       "</style>\n",
       "<table border=\"1\" class=\"dataframe\">\n",
       "  <thead>\n",
       "    <tr style=\"text-align: right;\">\n",
       "      <th></th>\n",
       "      <th>index</th>\n",
       "      <th>restaurant_name</th>\n",
       "      <th>country_code</th>\n",
       "      <th>city</th>\n",
       "      <th>cuisines</th>\n",
       "      <th>aggregate_rating</th>\n",
       "      <th>votes</th>\n",
       "    </tr>\n",
       "  </thead>\n",
       "  <tbody>\n",
       "    <tr>\n",
       "      <th>0</th>\n",
       "      <td>5408</td>\n",
       "      <td>Darshan</td>\n",
       "      <td>India</td>\n",
       "      <td>Pune</td>\n",
       "      <td>Italian</td>\n",
       "      <td>4.9</td>\n",
       "      <td>3106</td>\n",
       "    </tr>\n",
       "  </tbody>\n",
       "</table>\n",
       "</div>"
      ],
      "text/plain": [
       "   index restaurant_name country_code  city cuisines  aggregate_rating  votes\n",
       "0   5408         Darshan        India  Pune  Italian               4.9   3106"
      ]
     },
     "execution_count": 44,
     "metadata": {},
     "output_type": "execute_result"
    }
   ],
   "source": [
    "(df.loc[(df['cuisines'] == 'Italian') & (df['aggregate_rating']  == 4.9), ['restaurant_name', 'country_code', 'city', 'cuisines', 'aggregate_rating', 'votes']]\n",
    "   .sort_values(by = 'votes', ascending = False)\n",
    "   .head(1)\n",
    "   .reset_index())"
   ]
  },
  {
   "cell_type": "markdown",
   "id": "a530fc75-e746-4ff6-bffe-290075f6540d",
   "metadata": {
    "jp-MarkdownHeadingCollapsed": true,
    "tags": []
   },
   "source": [
    "### 2. Dos restaurantes que possuem o tipo de  culinária italiana, qual o nome do restaurante com a menor média de avaliação? "
   ]
  },
  {
   "cell_type": "code",
   "execution_count": 45,
   "id": "0881265a-5267-4e5d-a7f4-61b45f843b6b",
   "metadata": {},
   "outputs": [
    {
     "data": {
      "text/html": [
       "<div>\n",
       "<style scoped>\n",
       "    .dataframe tbody tr th:only-of-type {\n",
       "        vertical-align: middle;\n",
       "    }\n",
       "\n",
       "    .dataframe tbody tr th {\n",
       "        vertical-align: top;\n",
       "    }\n",
       "\n",
       "    .dataframe thead th {\n",
       "        text-align: right;\n",
       "    }\n",
       "</style>\n",
       "<table border=\"1\" class=\"dataframe\">\n",
       "  <thead>\n",
       "    <tr style=\"text-align: right;\">\n",
       "      <th></th>\n",
       "      <th>index</th>\n",
       "      <th>restaurant_name</th>\n",
       "      <th>country_code</th>\n",
       "      <th>city</th>\n",
       "      <th>cuisines</th>\n",
       "      <th>aggregate_rating</th>\n",
       "      <th>votes</th>\n",
       "    </tr>\n",
       "  </thead>\n",
       "  <tbody>\n",
       "    <tr>\n",
       "      <th>0</th>\n",
       "      <td>1587</td>\n",
       "      <td>Siena'S</td>\n",
       "      <td>Australia</td>\n",
       "      <td>Perth</td>\n",
       "      <td>Italian</td>\n",
       "      <td>2.3</td>\n",
       "      <td>832</td>\n",
       "    </tr>\n",
       "  </tbody>\n",
       "</table>\n",
       "</div>"
      ],
      "text/plain": [
       "   index restaurant_name country_code   city cuisines  aggregate_rating  votes\n",
       "0   1587         Siena'S    Australia  Perth  Italian               2.3    832"
      ]
     },
     "execution_count": 45,
     "metadata": {},
     "output_type": "execute_result"
    }
   ],
   "source": [
    "(df.loc[(df['cuisines'] == 'Italian') & (df['aggregate_rating']  > 0.0), ['restaurant_name', 'country_code', 'city', 'cuisines', 'aggregate_rating', 'votes']]\n",
    "   .sort_values(by = 'aggregate_rating', ascending = True)\n",
    "   .head(1)\n",
    "   .reset_index())"
   ]
  },
  {
   "cell_type": "markdown",
   "id": "b9d0887c-08c7-407e-b6f7-686c1274f2a8",
   "metadata": {
    "jp-MarkdownHeadingCollapsed": true,
    "tags": []
   },
   "source": [
    "### 3. Dos restaurantes que possuem o tipo de  culinária americana, qual o nome do restaurante com a maior média de avaliação? "
   ]
  },
  {
   "cell_type": "code",
   "execution_count": 46,
   "id": "ae48ad78-49e6-495d-a8d6-a92cf9a1c4f9",
   "metadata": {},
   "outputs": [
    {
     "data": {
      "text/html": [
       "<div>\n",
       "<style scoped>\n",
       "    .dataframe tbody tr th:only-of-type {\n",
       "        vertical-align: middle;\n",
       "    }\n",
       "\n",
       "    .dataframe tbody tr th {\n",
       "        vertical-align: top;\n",
       "    }\n",
       "\n",
       "    .dataframe thead th {\n",
       "        text-align: right;\n",
       "    }\n",
       "</style>\n",
       "<table border=\"1\" class=\"dataframe\">\n",
       "  <thead>\n",
       "    <tr style=\"text-align: right;\">\n",
       "      <th></th>\n",
       "      <th>index</th>\n",
       "      <th>restaurant_name</th>\n",
       "      <th>country_code</th>\n",
       "      <th>city</th>\n",
       "      <th>cuisines</th>\n",
       "      <th>aggregate_rating</th>\n",
       "      <th>votes</th>\n",
       "    </tr>\n",
       "  </thead>\n",
       "  <tbody>\n",
       "    <tr>\n",
       "      <th>0</th>\n",
       "      <td>1469</td>\n",
       "      <td>Shake Shack</td>\n",
       "      <td>United States of America</td>\n",
       "      <td>New York City</td>\n",
       "      <td>American</td>\n",
       "      <td>4.9</td>\n",
       "      <td>1633</td>\n",
       "    </tr>\n",
       "  </tbody>\n",
       "</table>\n",
       "</div>"
      ],
      "text/plain": [
       "   index restaurant_name              country_code           city  cuisines  \\\n",
       "0   1469     Shake Shack  United States of America  New York City  American   \n",
       "\n",
       "   aggregate_rating  votes  \n",
       "0               4.9   1633  "
      ]
     },
     "execution_count": 46,
     "metadata": {},
     "output_type": "execute_result"
    }
   ],
   "source": [
    "(df.loc[(df['cuisines'] == 'American') & (df['aggregate_rating']  == 4.9), ['restaurant_name', 'country_code', 'city', 'cuisines', 'aggregate_rating', 'votes']]\n",
    "   .sort_values(by = 'votes', ascending = False)\n",
    "   .head(1)\n",
    "   .reset_index())"
   ]
  },
  {
   "cell_type": "markdown",
   "id": "72ddfe71-39cf-4a37-a6f6-825e6893e800",
   "metadata": {
    "jp-MarkdownHeadingCollapsed": true,
    "tags": []
   },
   "source": [
    "### 4. Dos restaurantes que possuem o tipo de  culinária americana, qual o nome do restaurante com a menor média de avaliação? "
   ]
  },
  {
   "cell_type": "code",
   "execution_count": 47,
   "id": "782e80b0-3af8-4f82-9a48-3386edf70f00",
   "metadata": {},
   "outputs": [
    {
     "data": {
      "text/html": [
       "<div>\n",
       "<style scoped>\n",
       "    .dataframe tbody tr th:only-of-type {\n",
       "        vertical-align: middle;\n",
       "    }\n",
       "\n",
       "    .dataframe tbody tr th {\n",
       "        vertical-align: top;\n",
       "    }\n",
       "\n",
       "    .dataframe thead th {\n",
       "        text-align: right;\n",
       "    }\n",
       "</style>\n",
       "<table border=\"1\" class=\"dataframe\">\n",
       "  <thead>\n",
       "    <tr style=\"text-align: right;\">\n",
       "      <th></th>\n",
       "      <th>index</th>\n",
       "      <th>restaurant_name</th>\n",
       "      <th>country_code</th>\n",
       "      <th>city</th>\n",
       "      <th>cuisines</th>\n",
       "      <th>aggregate_rating</th>\n",
       "      <th>votes</th>\n",
       "    </tr>\n",
       "  </thead>\n",
       "  <tbody>\n",
       "    <tr>\n",
       "      <th>0</th>\n",
       "      <td>7204</td>\n",
       "      <td>Guy Fieri'S Kitchen &amp; Bar</td>\n",
       "      <td>South Africa</td>\n",
       "      <td>Pretoria</td>\n",
       "      <td>American</td>\n",
       "      <td>2.2</td>\n",
       "      <td>183</td>\n",
       "    </tr>\n",
       "  </tbody>\n",
       "</table>\n",
       "</div>"
      ],
      "text/plain": [
       "   index            restaurant_name  country_code      city  cuisines  \\\n",
       "0   7204  Guy Fieri'S Kitchen & Bar  South Africa  Pretoria  American   \n",
       "\n",
       "   aggregate_rating  votes  \n",
       "0               2.2    183  "
      ]
     },
     "execution_count": 47,
     "metadata": {},
     "output_type": "execute_result"
    }
   ],
   "source": [
    "(df.loc[(df['cuisines'] == 'American') & (df['aggregate_rating']  > 0.0), ['restaurant_name', 'country_code', 'city', 'cuisines', 'aggregate_rating', 'votes']]\n",
    "   .sort_values(by = 'aggregate_rating', ascending = True)\n",
    "   .head(1)\n",
    "   .reset_index())"
   ]
  },
  {
   "cell_type": "markdown",
   "id": "08cd1266-67a4-40a1-a756-ca5e93b3b37c",
   "metadata": {
    "jp-MarkdownHeadingCollapsed": true,
    "tags": []
   },
   "source": [
    "### 5. Dos restaurantes que possuem o tipo de  culinária arabe, qual o nome do restaurante com a maior média de avaliação? "
   ]
  },
  {
   "cell_type": "code",
   "execution_count": 48,
   "id": "116dab7f-9d8a-4d73-bdcd-9a92c12a7585",
   "metadata": {},
   "outputs": [
    {
     "data": {
      "text/html": [
       "<div>\n",
       "<style scoped>\n",
       "    .dataframe tbody tr th:only-of-type {\n",
       "        vertical-align: middle;\n",
       "    }\n",
       "\n",
       "    .dataframe tbody tr th {\n",
       "        vertical-align: top;\n",
       "    }\n",
       "\n",
       "    .dataframe thead th {\n",
       "        text-align: right;\n",
       "    }\n",
       "</style>\n",
       "<table border=\"1\" class=\"dataframe\">\n",
       "  <thead>\n",
       "    <tr style=\"text-align: right;\">\n",
       "      <th></th>\n",
       "      <th>index</th>\n",
       "      <th>restaurant_name</th>\n",
       "      <th>country_code</th>\n",
       "      <th>city</th>\n",
       "      <th>cuisines</th>\n",
       "      <th>aggregate_rating</th>\n",
       "      <th>votes</th>\n",
       "    </tr>\n",
       "  </thead>\n",
       "  <tbody>\n",
       "    <tr>\n",
       "      <th>0</th>\n",
       "      <td>3896</td>\n",
       "      <td>Mandi@36</td>\n",
       "      <td>India</td>\n",
       "      <td>Hyderabad</td>\n",
       "      <td>Arabian</td>\n",
       "      <td>4.7</td>\n",
       "      <td>1085</td>\n",
       "    </tr>\n",
       "  </tbody>\n",
       "</table>\n",
       "</div>"
      ],
      "text/plain": [
       "   index restaurant_name country_code       city cuisines  aggregate_rating  \\\n",
       "0   3896        Mandi@36        India  Hyderabad  Arabian               4.7   \n",
       "\n",
       "   votes  \n",
       "0   1085  "
      ]
     },
     "execution_count": 48,
     "metadata": {},
     "output_type": "execute_result"
    }
   ],
   "source": [
    "(df.loc[(df['cuisines'] == 'Arabian') & (df['aggregate_rating']  < 4.9), ['restaurant_name', 'country_code', 'city', 'cuisines', 'aggregate_rating', 'votes']]\n",
    "   .sort_values(by = 'aggregate_rating', ascending = False)\n",
    "   .head(1)\n",
    "   .reset_index())"
   ]
  },
  {
   "cell_type": "markdown",
   "id": "38e8cbc4-3d3b-41c0-b26e-a9763882e0fa",
   "metadata": {
    "jp-MarkdownHeadingCollapsed": true,
    "tags": []
   },
   "source": [
    "### 6. Dos restaurantes que possuem o tipo de  culinária arabe, qual o nome do restaurante com a menor média de avaliação? "
   ]
  },
  {
   "cell_type": "code",
   "execution_count": 49,
   "id": "031b5609-0cf1-41a7-a4c0-c431a8938381",
   "metadata": {},
   "outputs": [
    {
     "data": {
      "text/html": [
       "<div>\n",
       "<style scoped>\n",
       "    .dataframe tbody tr th:only-of-type {\n",
       "        vertical-align: middle;\n",
       "    }\n",
       "\n",
       "    .dataframe tbody tr th {\n",
       "        vertical-align: top;\n",
       "    }\n",
       "\n",
       "    .dataframe thead th {\n",
       "        text-align: right;\n",
       "    }\n",
       "</style>\n",
       "<table border=\"1\" class=\"dataframe\">\n",
       "  <thead>\n",
       "    <tr style=\"text-align: right;\">\n",
       "      <th></th>\n",
       "      <th>index</th>\n",
       "      <th>restaurant_name</th>\n",
       "      <th>country_code</th>\n",
       "      <th>city</th>\n",
       "      <th>cuisines</th>\n",
       "      <th>aggregate_rating</th>\n",
       "      <th>votes</th>\n",
       "    </tr>\n",
       "  </thead>\n",
       "  <tbody>\n",
       "    <tr>\n",
       "      <th>0</th>\n",
       "      <td>169</td>\n",
       "      <td>Empório Árabe</td>\n",
       "      <td>Brazil</td>\n",
       "      <td>Brasília</td>\n",
       "      <td>Arabian</td>\n",
       "      <td>2.7</td>\n",
       "      <td>5</td>\n",
       "    </tr>\n",
       "  </tbody>\n",
       "</table>\n",
       "</div>"
      ],
      "text/plain": [
       "   index restaurant_name country_code      city cuisines  aggregate_rating  \\\n",
       "0    169   Empório Árabe       Brazil  Brasília  Arabian               2.7   \n",
       "\n",
       "   votes  \n",
       "0      5  "
      ]
     },
     "execution_count": 49,
     "metadata": {},
     "output_type": "execute_result"
    }
   ],
   "source": [
    "(df.loc[(df['cuisines'] == 'Arabian') & (df['aggregate_rating']  > 0.0), ['restaurant_name', 'country_code', 'city', 'cuisines', 'aggregate_rating', 'votes']]\n",
    "   .sort_values(by = 'aggregate_rating', ascending = True)\n",
    "   .head(1)\n",
    "   .reset_index())"
   ]
  },
  {
   "cell_type": "markdown",
   "id": "ce016908-c60c-429f-832e-d0ad9c4d8f6a",
   "metadata": {
    "jp-MarkdownHeadingCollapsed": true,
    "tags": []
   },
   "source": [
    "### 7. Dos restaurantes que possuem o tipo de  culinária japonesa, qual o nome do restaurante com a maior média de avaliação? "
   ]
  },
  {
   "cell_type": "code",
   "execution_count": 50,
   "id": "ee4b0b09-5486-4e79-af3a-c5152aa35644",
   "metadata": {},
   "outputs": [
    {
     "data": {
      "text/html": [
       "<div>\n",
       "<style scoped>\n",
       "    .dataframe tbody tr th:only-of-type {\n",
       "        vertical-align: middle;\n",
       "    }\n",
       "\n",
       "    .dataframe tbody tr th {\n",
       "        vertical-align: top;\n",
       "    }\n",
       "\n",
       "    .dataframe thead th {\n",
       "        text-align: right;\n",
       "    }\n",
       "</style>\n",
       "<table border=\"1\" class=\"dataframe\">\n",
       "  <thead>\n",
       "    <tr style=\"text-align: right;\">\n",
       "      <th></th>\n",
       "      <th>index</th>\n",
       "      <th>restaurant_name</th>\n",
       "      <th>country_code</th>\n",
       "      <th>city</th>\n",
       "      <th>cuisines</th>\n",
       "      <th>aggregate_rating</th>\n",
       "      <th>votes</th>\n",
       "    </tr>\n",
       "  </thead>\n",
       "  <tbody>\n",
       "    <tr>\n",
       "      <th>0</th>\n",
       "      <td>17</td>\n",
       "      <td>Mendokoro Ramenba</td>\n",
       "      <td>Philippines</td>\n",
       "      <td>Makati City</td>\n",
       "      <td>Japanese</td>\n",
       "      <td>4.9</td>\n",
       "      <td>1832</td>\n",
       "    </tr>\n",
       "  </tbody>\n",
       "</table>\n",
       "</div>"
      ],
      "text/plain": [
       "   index    restaurant_name country_code         city  cuisines  \\\n",
       "0     17  Mendokoro Ramenba  Philippines  Makati City  Japanese   \n",
       "\n",
       "   aggregate_rating  votes  \n",
       "0               4.9   1832  "
      ]
     },
     "execution_count": 50,
     "metadata": {},
     "output_type": "execute_result"
    }
   ],
   "source": [
    "(df.loc[(df['cuisines'] == 'Japanese') & (df['aggregate_rating']  == 4.9), ['restaurant_name', 'country_code', 'city', 'cuisines', 'aggregate_rating', 'votes']]\n",
    "   .sort_values(by = 'votes', ascending = False)\n",
    "   .head(1)\n",
    "   .reset_index())"
   ]
  },
  {
   "cell_type": "markdown",
   "id": "4080db91-120b-4f6f-bc62-1f85fceb9bd3",
   "metadata": {
    "jp-MarkdownHeadingCollapsed": true,
    "tags": []
   },
   "source": [
    "### 8. Dos restaurantes que possuem o tipo de culinária japonesa, qual o nome do restaurante com a menor média de avaliação? "
   ]
  },
  {
   "cell_type": "code",
   "execution_count": 51,
   "id": "79dc3c43-37a0-4001-afc3-202a947afc1b",
   "metadata": {},
   "outputs": [
    {
     "data": {
      "text/html": [
       "<div>\n",
       "<style scoped>\n",
       "    .dataframe tbody tr th:only-of-type {\n",
       "        vertical-align: middle;\n",
       "    }\n",
       "\n",
       "    .dataframe tbody tr th {\n",
       "        vertical-align: top;\n",
       "    }\n",
       "\n",
       "    .dataframe thead th {\n",
       "        text-align: right;\n",
       "    }\n",
       "</style>\n",
       "<table border=\"1\" class=\"dataframe\">\n",
       "  <thead>\n",
       "    <tr style=\"text-align: right;\">\n",
       "      <th></th>\n",
       "      <th>index</th>\n",
       "      <th>restaurant_name</th>\n",
       "      <th>country_code</th>\n",
       "      <th>city</th>\n",
       "      <th>cuisines</th>\n",
       "      <th>aggregate_rating</th>\n",
       "      <th>votes</th>\n",
       "    </tr>\n",
       "  </thead>\n",
       "  <tbody>\n",
       "    <tr>\n",
       "      <th>0</th>\n",
       "      <td>181</td>\n",
       "      <td>Orienthai</td>\n",
       "      <td>Brazil</td>\n",
       "      <td>Rio de Janeiro</td>\n",
       "      <td>Japanese</td>\n",
       "      <td>2.4</td>\n",
       "      <td>8</td>\n",
       "    </tr>\n",
       "  </tbody>\n",
       "</table>\n",
       "</div>"
      ],
      "text/plain": [
       "   index restaurant_name country_code            city  cuisines  \\\n",
       "0    181       Orienthai       Brazil  Rio de Janeiro  Japanese   \n",
       "\n",
       "   aggregate_rating  votes  \n",
       "0               2.4      8  "
      ]
     },
     "execution_count": 51,
     "metadata": {},
     "output_type": "execute_result"
    }
   ],
   "source": [
    "(df.loc[(df['cuisines'] == 'Japanese') & (df['aggregate_rating']  > 0.0), ['restaurant_name', 'country_code', 'city', 'cuisines', 'aggregate_rating', 'votes']]\n",
    "   .sort_values(by = 'aggregate_rating', ascending = True)\n",
    "   .head(1)\n",
    "   .reset_index())"
   ]
  },
  {
   "cell_type": "markdown",
   "id": "18b7571f-5224-426f-b5ef-6d41e032756c",
   "metadata": {
    "jp-MarkdownHeadingCollapsed": true,
    "tags": []
   },
   "source": [
    "### 9. Dos restaurantes que possuem o tipo de culinária  qual o nome do restaurante com a maior média de avaliação? "
   ]
  },
  {
   "cell_type": "code",
   "execution_count": 52,
   "id": "4c0f19ec-01b6-4ff2-b216-16dd2a72cd55",
   "metadata": {},
   "outputs": [
    {
     "data": {
      "text/html": [
       "<div>\n",
       "<style scoped>\n",
       "    .dataframe tbody tr th:only-of-type {\n",
       "        vertical-align: middle;\n",
       "    }\n",
       "\n",
       "    .dataframe tbody tr th {\n",
       "        vertical-align: top;\n",
       "    }\n",
       "\n",
       "    .dataframe thead th {\n",
       "        text-align: right;\n",
       "    }\n",
       "</style>\n",
       "<table border=\"1\" class=\"dataframe\">\n",
       "  <thead>\n",
       "    <tr style=\"text-align: right;\">\n",
       "      <th></th>\n",
       "      <th>index</th>\n",
       "      <th>restaurant_name</th>\n",
       "      <th>country_code</th>\n",
       "      <th>city</th>\n",
       "      <th>cuisines</th>\n",
       "      <th>aggregate_rating</th>\n",
       "      <th>votes</th>\n",
       "    </tr>\n",
       "  </thead>\n",
       "  <tbody>\n",
       "    <tr>\n",
       "      <th>0</th>\n",
       "      <td>7525</td>\n",
       "      <td>Kanaat Lokantası</td>\n",
       "      <td>Turkey</td>\n",
       "      <td>İstanbul</td>\n",
       "      <td>Home-made</td>\n",
       "      <td>4.0</td>\n",
       "      <td>770</td>\n",
       "    </tr>\n",
       "  </tbody>\n",
       "</table>\n",
       "</div>"
      ],
      "text/plain": [
       "   index   restaurant_name country_code      city   cuisines  \\\n",
       "0   7525  Kanaat Lokantası       Turkey  İstanbul  Home-made   \n",
       "\n",
       "   aggregate_rating  votes  \n",
       "0               4.0    770  "
      ]
     },
     "execution_count": 52,
     "metadata": {},
     "output_type": "execute_result"
    }
   ],
   "source": [
    "(df.loc[(df['cuisines'] == 'Home-made') & (df['aggregate_rating']  < 4.9), ['restaurant_name', 'country_code', 'city', 'cuisines', 'aggregate_rating', 'votes']]\n",
    "   .sort_values(by = 'votes', ascending = False)\n",
    "   .head(1)\n",
    "   .reset_index())"
   ]
  },
  {
   "cell_type": "markdown",
   "id": "09419b3f-616e-4ac4-920c-27bd2de20e7f",
   "metadata": {
    "jp-MarkdownHeadingCollapsed": true,
    "tags": []
   },
   "source": [
    "### 10. Dos restaurantes que possuem o tipo de culinária  qual o nome do restaurante com a menor média de avaliação? "
   ]
  },
  {
   "cell_type": "code",
   "execution_count": 53,
   "id": "3f092988-5283-4212-8410-e39ae8afd5df",
   "metadata": {},
   "outputs": [
    {
     "data": {
      "text/html": [
       "<div>\n",
       "<style scoped>\n",
       "    .dataframe tbody tr th:only-of-type {\n",
       "        vertical-align: middle;\n",
       "    }\n",
       "\n",
       "    .dataframe tbody tr th {\n",
       "        vertical-align: top;\n",
       "    }\n",
       "\n",
       "    .dataframe thead th {\n",
       "        text-align: right;\n",
       "    }\n",
       "</style>\n",
       "<table border=\"1\" class=\"dataframe\">\n",
       "  <thead>\n",
       "    <tr style=\"text-align: right;\">\n",
       "      <th></th>\n",
       "      <th>index</th>\n",
       "      <th>restaurant_name</th>\n",
       "      <th>country_code</th>\n",
       "      <th>city</th>\n",
       "      <th>cuisines</th>\n",
       "      <th>aggregate_rating</th>\n",
       "      <th>votes</th>\n",
       "    </tr>\n",
       "  </thead>\n",
       "  <tbody>\n",
       "    <tr>\n",
       "      <th>0</th>\n",
       "      <td>7373</td>\n",
       "      <td>Gurmekan Restaurant</td>\n",
       "      <td>Turkey</td>\n",
       "      <td>Ankara</td>\n",
       "      <td>Home-made</td>\n",
       "      <td>3.7</td>\n",
       "      <td>12</td>\n",
       "    </tr>\n",
       "  </tbody>\n",
       "</table>\n",
       "</div>"
      ],
      "text/plain": [
       "   index      restaurant_name country_code    city   cuisines  \\\n",
       "0   7373  Gurmekan Restaurant       Turkey  Ankara  Home-made   \n",
       "\n",
       "   aggregate_rating  votes  \n",
       "0               3.7     12  "
      ]
     },
     "execution_count": 53,
     "metadata": {},
     "output_type": "execute_result"
    }
   ],
   "source": [
    "(df.loc[(df['cuisines'] == 'Home-made') & (df['aggregate_rating']  > 0.0), ['restaurant_name', 'country_code', 'city', 'cuisines', 'aggregate_rating', 'votes']]\n",
    "   .sort_values(by = 'aggregate_rating', ascending = True)\n",
    "   .head(1)\n",
    "   .reset_index())"
   ]
  },
  {
   "cell_type": "markdown",
   "id": "659eee53-1e04-4db9-b169-585577063564",
   "metadata": {
    "jp-MarkdownHeadingCollapsed": true,
    "tags": []
   },
   "source": [
    "### 11. Qual é o tipo de culinária que possui o maior valor médio de um prato para duas pessoas?"
   ]
  },
  {
   "cell_type": "code",
   "execution_count": 54,
   "id": "1f0d5382-172d-42ef-a6ee-16ac7e9f116e",
   "metadata": {},
   "outputs": [
    {
     "data": {
      "text/html": [
       "<div>\n",
       "<style scoped>\n",
       "    .dataframe tbody tr th:only-of-type {\n",
       "        vertical-align: middle;\n",
       "    }\n",
       "\n",
       "    .dataframe tbody tr th {\n",
       "        vertical-align: top;\n",
       "    }\n",
       "\n",
       "    .dataframe thead th {\n",
       "        text-align: right;\n",
       "    }\n",
       "</style>\n",
       "<table border=\"1\" class=\"dataframe\">\n",
       "  <thead>\n",
       "    <tr style=\"text-align: right;\">\n",
       "      <th></th>\n",
       "      <th>average_cost_for_two</th>\n",
       "    </tr>\n",
       "    <tr>\n",
       "      <th>cuisines</th>\n",
       "      <th></th>\n",
       "    </tr>\n",
       "  </thead>\n",
       "  <tbody>\n",
       "    <tr>\n",
       "      <th>Modern Australian</th>\n",
       "      <td>25000017</td>\n",
       "    </tr>\n",
       "  </tbody>\n",
       "</table>\n",
       "</div>"
      ],
      "text/plain": [
       "                   average_cost_for_two\n",
       "cuisines                               \n",
       "Modern Australian              25000017"
      ]
     },
     "execution_count": 54,
     "metadata": {},
     "output_type": "execute_result"
    }
   ],
   "source": [
    "df.loc[:, ['cuisines', 'average_cost_for_two']].groupby('cuisines').max().sort_values(by = 'average_cost_for_two', ascending = False).head(1)"
   ]
  },
  {
   "cell_type": "markdown",
   "id": "f76272de-145e-4b0a-9187-a1022ddbef3f",
   "metadata": {
    "jp-MarkdownHeadingCollapsed": true,
    "tags": []
   },
   "source": [
    "### 12. Qual é o tipo de culinária que possui a maior nota média?"
   ]
  },
  {
   "cell_type": "code",
   "execution_count": 55,
   "id": "6643048e-f4de-46aa-aeb0-b78e90ec98ff",
   "metadata": {},
   "outputs": [
    {
     "data": {
      "text/html": [
       "<div>\n",
       "<style scoped>\n",
       "    .dataframe tbody tr th:only-of-type {\n",
       "        vertical-align: middle;\n",
       "    }\n",
       "\n",
       "    .dataframe tbody tr th {\n",
       "        vertical-align: top;\n",
       "    }\n",
       "\n",
       "    .dataframe thead th {\n",
       "        text-align: right;\n",
       "    }\n",
       "</style>\n",
       "<table border=\"1\" class=\"dataframe\">\n",
       "  <thead>\n",
       "    <tr style=\"text-align: right;\">\n",
       "      <th></th>\n",
       "      <th>index</th>\n",
       "      <th>restaurant_name</th>\n",
       "      <th>cuisines</th>\n",
       "      <th>aggregate_rating</th>\n",
       "      <th>votes</th>\n",
       "      <th>country_code</th>\n",
       "      <th>city</th>\n",
       "    </tr>\n",
       "  </thead>\n",
       "  <tbody>\n",
       "    <tr>\n",
       "      <th>0</th>\n",
       "      <td>3038</td>\n",
       "      <td>Byg Brewski Brewing Company</td>\n",
       "      <td>Continental</td>\n",
       "      <td>4.9</td>\n",
       "      <td>17394</td>\n",
       "      <td>India</td>\n",
       "      <td>Bangalore</td>\n",
       "    </tr>\n",
       "  </tbody>\n",
       "</table>\n",
       "</div>"
      ],
      "text/plain": [
       "   index              restaurant_name     cuisines  aggregate_rating  votes  \\\n",
       "0   3038  Byg Brewski Brewing Company  Continental               4.9  17394   \n",
       "\n",
       "  country_code       city  \n",
       "0        India  Bangalore  "
      ]
     },
     "execution_count": 55,
     "metadata": {},
     "output_type": "execute_result"
    }
   ],
   "source": [
    "(df.loc[(df['aggregate_rating']  == 4.9), ['restaurant_name', 'cuisines', 'aggregate_rating', 'votes', 'country_code', 'city']]\n",
    "   .sort_values(by = 'votes', ascending = False)\n",
    "   .head(1)\n",
    "   .reset_index())"
   ]
  },
  {
   "cell_type": "markdown",
   "id": "982d4173-d1a6-414b-9c3a-e7e708577728",
   "metadata": {
    "jp-MarkdownHeadingCollapsed": true,
    "tags": []
   },
   "source": [
    "### 13. Qual o tipo de culinária que possui mais restaurantes que aceitam pedidos online e fazem entregas?"
   ]
  },
  {
   "cell_type": "code",
   "execution_count": 56,
   "id": "29c9ac22-d3ee-43e0-b130-ee2aa6c63525",
   "metadata": {},
   "outputs": [
    {
     "data": {
      "text/html": [
       "<div>\n",
       "<style scoped>\n",
       "    .dataframe tbody tr th:only-of-type {\n",
       "        vertical-align: middle;\n",
       "    }\n",
       "\n",
       "    .dataframe tbody tr th {\n",
       "        vertical-align: top;\n",
       "    }\n",
       "\n",
       "    .dataframe thead th {\n",
       "        text-align: right;\n",
       "    }\n",
       "</style>\n",
       "<table border=\"1\" class=\"dataframe\">\n",
       "  <thead>\n",
       "    <tr style=\"text-align: right;\">\n",
       "      <th></th>\n",
       "      <th>cuisines</th>\n",
       "      <th>has_online_delivery</th>\n",
       "    </tr>\n",
       "  </thead>\n",
       "  <tbody>\n",
       "    <tr>\n",
       "      <th>0</th>\n",
       "      <td>North Indian</td>\n",
       "      <td>317</td>\n",
       "    </tr>\n",
       "  </tbody>\n",
       "</table>\n",
       "</div>"
      ],
      "text/plain": [
       "       cuisines  has_online_delivery\n",
       "0  North Indian                  317"
      ]
     },
     "execution_count": 56,
     "metadata": {},
     "output_type": "execute_result"
    }
   ],
   "source": [
    "(df.loc[(df['has_online_delivery']  == 1) & (df['is_delivering_now']  == 1), ['cuisines', 'has_online_delivery']]\n",
    "   .groupby('cuisines')\n",
    "   .count()\n",
    "   .sort_values(by = 'has_online_delivery', ascending = False)\n",
    "   .head(1)\n",
    "   .reset_index())"
   ]
  },
  {
   "cell_type": "markdown",
   "id": "97800e02-b749-4572-9ca2-13bc520082a3",
   "metadata": {
    "tags": []
   },
   "source": [
    "# 4.0. Deploy"
   ]
  },
  {
   "cell_type": "markdown",
   "id": "f0371b03",
   "metadata": {},
   "source": [
    "## 4.1. Funções Gráficos "
   ]
  },
  {
   "cell_type": "code",
   "execution_count": 57,
   "id": "051f4489-412d-43b7-98d5-23f568d49a39",
   "metadata": {},
   "outputs": [],
   "source": [
    "#---------------------------------------------------------------------------------------------------------------------------------------------------------------------------\n",
    "#-------------------------------------------------------------------------------PAISES--------------------------------------------------------------------------------------\n",
    "\n",
    "def countries_operations (df, coly, operation, labelx, labely):\n",
    "    if operation == 'count':\n",
    "        \n",
    "        df_aux = df.loc[:, ['country_code', coly]].groupby('country_code').count().reset_index()\n",
    "        fig = px.bar(df_aux, x = 'country_code', y = coly, text_auto=True, color = 'country_code', \n",
    "                     color_discrete_sequence = px.colors.sequential.amp, \n",
    "                     labels={coly:labely, 'country_code':labelx}, height= 600)\n",
    "        \n",
    "        fig.update_traces(textfont_size=14, textposition=\"outside\", marker_line_color='rgb(69, 71, 72, 1)', \n",
    "                          marker_line_width=0.8)\n",
    "        fig.update_layout(barmode='stack', xaxis={'categoryorder': 'total descending'}, showlegend=False)\n",
    "    \n",
    "    elif operation == 'nunique':\n",
    "        df_aux = df.loc[:, ['country_code', coly]].groupby('country_code').nunique().reset_index()\n",
    "        fig = px.bar(df_aux, x = 'country_code', y = coly, text_auto=True, color = 'country_code',\n",
    "                     color_discrete_sequence = px.colors.sequential.amp, \n",
    "                    labels={coly:labely, 'country_code':labelx}, height= 600)\n",
    "        fig.update_traces(textfont_size=14, textposition=\"outside\", marker_line_color='rgb(69, 71, 72, 1)', \n",
    "                          marker_line_width=0.8)\n",
    "        fig.update_layout(barmode='stack', xaxis={'categoryorder': 'total descending'}, showlegend=False)\n",
    "        \n",
    "    elif operation == 'mean':\n",
    "        df_aux = np.round ( df.loc[:, ['country_code', coly]].groupby('country_code').mean().reset_index(), 2)\n",
    "        fig = px.bar(df_aux, x = 'country_code', y = coly, text_auto=True, color = 'country_code',\n",
    "                     color_discrete_sequence = px.colors.sequential.amp, \n",
    "                    labels={coly:labely, 'country_code':labelx}, height= 600)\n",
    "        fig.update_traces(textfont_size=14, textposition=\"outside\", marker_line_color='rgb(69, 71, 72, 1)', \n",
    "                          marker_line_width=0.8)\n",
    "        fig.update_layout(barmode='stack', xaxis={'categoryorder': 'total descending'}, showlegend=False)\n",
    "    \n",
    "    return fig\n",
    "\n",
    "def df_tables (df, condicao):\n",
    "    if condicao == 'mean':\n",
    "        df_tab = np.round(df.loc[: ,['country_code', 'price_in_dollar']]\n",
    "                         .groupby('country_code')\n",
    "                         .mean('price_in_dollar')\n",
    "                         .sort_values(['price_in_dollar'], ascending = False)\n",
    "                         .reset_index(),2)\n",
    "        df_tab.columns = ['Country', 'Average Cost for Two (US$)']\n",
    "    \n",
    "    elif condicao == 'nunique':\n",
    "        df_tab = np.round(df.loc[:, ['country_code', 'cuisines']]\n",
    "                            .groupby('country_code')\n",
    "                            .nunique()\n",
    "                            .sort_values(by = 'cuisines', ascending = False)\n",
    "                            .reset_index(),2)\n",
    "        df_tab.columns = ['Country', 'Cuisines']\n",
    "    \n",
    "    return df_tab\n",
    "\n",
    "#--------------------------------------------------------------------------------------------------------------------------------------------------------------------------- \n",
    "#---------------------------------------------------------------------------MENU CIDADES------------------------------------------------------------------------------------\n",
    "\n",
    "def top_ten_countries (df):\n",
    "    lin = (df['country_code'].isin(paises))\n",
    "    df_aux = (df.loc[lin,['restaurant_name','city', 'country_code']]\n",
    "                .groupby(['city','country_code'])\n",
    "                .nunique()\n",
    "                .sort_values(by = 'restaurant_name', ascending = True)\n",
    "                .tail(10)\n",
    "                .reset_index())\n",
    "    fig = px.bar(df_aux, x = 'city', y = 'restaurant_name', color = 'country_code',  \n",
    "                 color_discrete_sequence = px.colors.sequential.amp, text_auto=True, \n",
    "                 labels={'city': 'Cidades', 'restaurant_name':'Quantidade de Restaurantes', \n",
    "                         'country_code':'Países'}, height= 600)\n",
    "\n",
    "    fig.update_traces(textfont_size=14, textposition=\"outside\", marker_line_color='rgb(69, 71, 72, 1)', marker_line_width=0.8)\n",
    "    fig.update_layout(xaxis={'categoryorder': 'total descending'})\n",
    "    \n",
    "    return fig\n",
    "\n",
    "def avg_topseven_cities (df, condition, mean):\n",
    "    lin = (df['country_code'].isin(paises))\n",
    "    if condition == 'maior_igual':\n",
    "        df_aux = (df.loc[(df['aggregate_rating'] >= mean) & lin,['restaurant_name','city', 'country_code']]\n",
    "                    .groupby(['country_code','city'])\n",
    "                    .count()\n",
    "                    .sort_values('restaurant_name', ascending = False)\n",
    "                    .head(7)\n",
    "                    .reset_index())\n",
    "\n",
    "        fig = px.bar(df_aux, x = 'city', y = 'restaurant_name', \n",
    "                     color = 'country_code', color_discrete_sequence = px.colors.sequential.amp, text_auto=True, \n",
    "                     labels={'city': 'Cidades', 'restaurant_name':'Quantidade de Restaurantes', \n",
    "                             'country_code':'Países'}, height= 600)\n",
    "        \n",
    "        fig.update_traces(textfont_size=14, textposition=\"outside\", marker_line_color='rgb(69, 71, 72, 1)',marker_line_width=0.8)\n",
    "        fig.update_layout(xaxis={'categoryorder': 'total descending'})\n",
    "    \n",
    "    elif condition == 'menor_igual':\n",
    "        df_aux = (df.loc[(df['aggregate_rating'] <= mean) & lin,['restaurant_name','city', 'country_code']]\n",
    "                    .groupby(['country_code','city'])\n",
    "                    .count()\n",
    "                    .sort_values('restaurant_name', ascending = False)\n",
    "                    .head(7)\n",
    "                    .reset_index())\n",
    "\n",
    "        fig = px.bar(df_aux, x = 'city', y = 'restaurant_name', \n",
    "                     color = 'country_code', color_discrete_sequence = px.colors.sequential.amp, text_auto=True,\n",
    "                     labels={'city': 'Cidades', 'restaurant_name':'Quantidade de Restaurantes', \n",
    "                             'country_code':'Países'}, height= 600)\n",
    "        \n",
    "        fig.update_traces(textfont_size=14, textposition=\"outside\", marker_line_color='rgb(69, 71, 72, 1)',marker_line_width=0.8)\n",
    "        fig.update_layout(xaxis={'categoryorder': 'total descending', })\n",
    "        \n",
    "    return fig\n",
    "\n",
    "def cooking_varieties (df):\n",
    "    lin = (df['country_code'].isin(paises))\n",
    "    df_aux = (df.loc[lin, ['country_code', 'city', 'cuisines']]\n",
    "                .groupby(['city', 'country_code'])\n",
    "                .nunique()\n",
    "                .sort_values(by = 'cuisines', ascending = False)\n",
    "                .head(10)\n",
    "                .reset_index())\n",
    "    fig = px.bar(df_aux, x = 'city', y = 'cuisines', color = 'country_code', color_discrete_sequence = px.colors.sequential.amp, \n",
    "                 text_auto=True, labels={'cuisines': 'Tipos de Cozinha', 'city':'Cidades', 'country_code': 'Países'}, height= 800)\n",
    "    \n",
    "    fig.update_traces(textfont_size=14, textposition=\"outside\", marker_line_color='rgb(69, 71, 72, 1)',marker_line_width=0.8)\n",
    "    fig.update_layout(xaxis={'categoryorder': 'total descending'}, )\n",
    "    \n",
    "    return fig\n",
    "\n",
    "#---------------------------------------------------------------------------------------------------------------------------------------------------------------------------\n",
    "#---------------------------------------------------------------------------------MENU CULINÁRIAS---------------------------------------------------------------------------\n",
    "\n",
    "def top_cuisines (df, condicao, top_culinarias):\n",
    "    if condicao == 'melhor':\n",
    "        df_aux = np.round(df.loc[(df['aggregate_rating']  >= 4.0) & (df['rating_text']  != 'Not rated'), ['cuisines','aggregate_rating']]\n",
    "                            .groupby(['cuisines'])\n",
    "                            .mean('aggregate_rating')\n",
    "                            .sort_values('aggregate_rating', ascending = False)\n",
    "                            .reset_index(), 2)\n",
    "        df_fig = df_aux.head(top_culinarias)\n",
    "        fig = px.bar(df_fig, x = 'aggregate_rating', y = 'cuisines', color = 'cuisines', color_discrete_sequence = px.colors.sequential.amp, \n",
    "                     text_auto=True, labels={'cuisines': 'Tipos de Cozinha', 'aggregate_rating':'Média de Avaliação'}, height= 800)\n",
    "        fig.update_traces(textfont_size=14, textposition=\"outside\", marker_line_color='rgb(69, 71, 72, 1)',marker_line_width=0.8)\n",
    "        fig.update_layout(yaxis={'categoryorder': 'total ascending'}, showlegend=False)\n",
    "\n",
    "\n",
    "    elif condicao == 'pior':\n",
    "        df_aux = np.round(df.loc[(df['aggregate_rating']  >= 0.0) &  (df['rating_text']  != 'Not rated'), ['cuisines','aggregate_rating']]\n",
    "                            .groupby(['cuisines'])\n",
    "                            .mean('aggregate_rating')\n",
    "                            .sort_values('aggregate_rating', ascending = True)\n",
    "                            .reset_index(), 2)\n",
    "        df_fig = df_aux.head(top_culinarias)\n",
    "        fig = px.bar(df_fig, x = 'aggregate_rating', y = 'cuisines', color = 'cuisines', color_discrete_sequence = px.colors.sequential.amp, \n",
    "                     text_auto=True, labels={'cuisines': 'Tipos de Cozinha', 'aggregate_rating':'Média de Avaliação'}, height= 800)\n",
    "        fig.update_traces(textfont_size=14, textposition=\"outside\", marker_line_color='rgb(69, 71, 72, 1)',marker_line_width=0.8)\n",
    "        fig.update_layout(yaxis={'categoryorder': 'total descending'}, showlegend=False)\n",
    "    \n",
    "    return fig\n",
    "\n",
    "def zero_rating(df):\n",
    "    df_zero = np.round(df.loc[(df['aggregate_rating']  == 0.0), ['restaurant_name', 'cuisines','country_code', 'city','aggregate_rating', 'price_range']]\n",
    "                     .groupby(['restaurant_name', 'cuisines', 'country_code', 'city', 'price_range'])\n",
    "                     .mean('aggregate_rating')\n",
    "                     .sort_values('aggregate_rating', ascending = True)\n",
    "                     .reset_index(), 2)\n",
    "    df_zero.columns = ['Restaurant', 'Cuisines', 'Country', 'City', 'Price Range' ,'Aggregate Rating']\n",
    "    \n",
    "    return df_zero\n",
    "\n",
    "#---------------------------------------------------------------------------------------------------------------------------------------------------------------------------\n",
    "#--------------------------------------------------------------------------------MENU RESTAURANTES --------------------------------------------------------------------------\n",
    "def country_maps (df):\n",
    "    \n",
    "    df_maps = (df.loc[:, ['restaurant_name','city', 'latitude','longitude', 'rating_color', 'price_range']]\n",
    "                 .groupby(['city', 'restaurant_name','rating_color', 'price_range'])\n",
    "                 .median()\n",
    "                 .reset_index())\n",
    "    \n",
    "    map_ = folium.Map( zoom_start = 16)\n",
    "\n",
    "    marker_cluster = MarkerCluster().add_to(map_)\n",
    "\n",
    "    for index, location_info in df_maps.iterrows():\n",
    "        folium.Marker (\n",
    "            location = [location_info['latitude'], location_info['longitude']],\n",
    "            popup = location_info ['price_range'],\n",
    "            tooltip= location_info ['restaurant_name'],\n",
    "            icon = folium.Icon (color = location_info['rating_color'], prefix = 'fa', icon = 'circle'),\n",
    "    ).add_to(marker_cluster)\n",
    "    \n",
    "    folium_static (map_, width =1024)\n",
    "    \n",
    "    return None\n",
    "\n",
    "def top_restaurants(df):\n",
    "    cols = ['restaurant_name', 'country_code', 'city', 'cuisines', 'price_range','price_in_dollar', 'aggregate_rating', 'votes']\n",
    "    lin = (df['aggregate_rating'] <= 4.9) & (df['country_code'].isin(paises))\n",
    "            \n",
    "            \n",
    "    dataframe= np.round(df.loc[lin,cols]\n",
    "                 .groupby(['restaurant_name', 'cuisines', 'country_code', 'city', 'price_range'])\n",
    "                 .mean(['aggregate_rating','votes'])\n",
    "                 .sort_values(['aggregate_rating','votes'], ascending = False)\n",
    "                 .reset_index(),2)\n",
    "    dataframe.columns = ['Restaurant',' Cuisines','Country', 'City', 'Price Range','Average Cost for Two (US$)', 'Aggregate Rating', 'Votes']\n",
    "    df2 = dataframe.head(top_20)\n",
    "    \n",
    "    return df2"
   ]
  }
 ],
 "metadata": {
  "kernelspec": {
   "display_name": "Python 3 (ipykernel)",
   "language": "python",
   "name": "python3"
  },
  "language_info": {
   "codemirror_mode": {
    "name": "ipython",
    "version": 3
   },
   "file_extension": ".py",
   "mimetype": "text/x-python",
   "name": "python",
   "nbconvert_exporter": "python",
   "pygments_lexer": "ipython3",
   "version": "3.10.7"
  }
 },
 "nbformat": 4,
 "nbformat_minor": 5
}
